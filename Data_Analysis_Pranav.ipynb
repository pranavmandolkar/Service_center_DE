{
 "cells": [
  {
   "cell_type": "markdown",
   "metadata": {
    "id": "DPG-rG98xoHE"
   },
   "source": [
    "# **Dell Service Center Data cleaning and Analysis :-**\n",
    "---\n",
    "\n",
    "This notebook is divided into 3 parts\n",
    "\n",
    "\n",
    "\n",
    "\n",
    "1. Data Cleaning\n",
    "2. Feature Engineering\n",
    "3. Data Analysis"
   ]
  },
  {
   "cell_type": "markdown",
   "metadata": {
    "id": "uDianCkPgU9V"
   },
   "source": [
    "# 1. Data Cleaning"
   ]
  },
  {
   "cell_type": "markdown",
   "metadata": {
    "id": "UNj0yuC7ft5q"
   },
   "source": [
    "Import basic libraries for the notebook"
   ]
  },
  {
   "cell_type": "code",
   "execution_count": 1,
   "metadata": {
    "executionInfo": {
     "elapsed": 492,
     "status": "ok",
     "timestamp": 1626740805724,
     "user": {
      "displayName": "Pranav Mandolkar",
      "photoUrl": "https://lh3.googleusercontent.com/a-/AOh14GhkkcVpx7Q7nguHF5VhYApRc8cX52Sj5GpAVeixpwI=s64",
      "userId": "11053925234622878391"
     },
     "user_tz": 300
    },
    "id": "nzMvhDRtxc2o"
   },
   "outputs": [],
   "source": [
    "import pandas as pd\n",
    "import numpy as np\n",
    "import seaborn as sns\n",
    "\n",
    "import matplotlib.pyplot as plt\n",
    "import matplotlib.mlab as mlab\n",
    "from matplotlib.pyplot import figure\n",
    "import matplotlib\n",
    "\n",
    "%matplotlib inline\n",
    "matplotlib.rcParams['figure.figsize'] = (12,8)"
   ]
  },
  {
   "cell_type": "markdown",
   "metadata": {
    "id": "s11q6DvEgHJZ"
   },
   "source": [
    "Importing .csv data and storing in dataframe.\n",
    "Also, created image of the csv file to keep original copy"
   ]
  },
  {
   "cell_type": "code",
   "execution_count": 2,
   "metadata": {
    "executionInfo": {
     "elapsed": 484,
     "status": "ok",
     "timestamp": 1626740808200,
     "user": {
      "displayName": "Pranav Mandolkar",
      "photoUrl": "https://lh3.googleusercontent.com/a-/AOh14GhkkcVpx7Q7nguHF5VhYApRc8cX52Sj5GpAVeixpwI=s64",
      "userId": "11053925234622878391"
     },
     "user_tz": 300
    },
    "id": "UBU6xS7Gx0Le"
   },
   "outputs": [
    {
     "ename": "FileNotFoundError",
     "evalue": "[Errno 2] File /content/drive/MyDrive/Datasets/DellGSPE_DSrole_dataset.csv does not exist: '/content/drive/MyDrive/Datasets/DellGSPE_DSrole_dataset.csv'",
     "output_type": "error",
     "traceback": [
      "\u001b[0;31m---------------------------------------------------------------------------\u001b[0m",
      "\u001b[0;31mFileNotFoundError\u001b[0m                         Traceback (most recent call last)",
      "\u001b[0;32m<ipython-input-2-ab5f5812a938>\u001b[0m in \u001b[0;36m<module>\u001b[0;34m\u001b[0m\n\u001b[1;32m      1\u001b[0m \u001b[0;31m# read the data\u001b[0m\u001b[0;34m\u001b[0m\u001b[0;34m\u001b[0m\u001b[0;34m\u001b[0m\u001b[0m\n\u001b[0;32m----> 2\u001b[0;31m \u001b[0mdf\u001b[0m \u001b[0;34m=\u001b[0m \u001b[0mpd\u001b[0m\u001b[0;34m.\u001b[0m\u001b[0mread_csv\u001b[0m\u001b[0;34m(\u001b[0m\u001b[0;34m\"/content/drive/MyDrive/Datasets/DellGSPE_DSrole_dataset.csv\"\u001b[0m\u001b[0;34m,\u001b[0m \u001b[0msep\u001b[0m\u001b[0;34m=\u001b[0m\u001b[0;34m','\u001b[0m\u001b[0;34m)\u001b[0m\u001b[0;34m\u001b[0m\u001b[0;34m\u001b[0m\u001b[0m\n\u001b[0m\u001b[1;32m      3\u001b[0m \u001b[0;34m\u001b[0m\u001b[0m\n\u001b[1;32m      4\u001b[0m \u001b[0mdf_org\u001b[0m \u001b[0;34m=\u001b[0m \u001b[0mdf\u001b[0m\u001b[0;34m.\u001b[0m\u001b[0mcopy\u001b[0m\u001b[0;34m(\u001b[0m\u001b[0;34m)\u001b[0m\u001b[0;34m\u001b[0m\u001b[0;34m\u001b[0m\u001b[0m\n",
      "\u001b[0;32m~/opt/anaconda3/lib/python3.7/site-packages/pandas/io/parsers.py\u001b[0m in \u001b[0;36mparser_f\u001b[0;34m(filepath_or_buffer, sep, delimiter, header, names, index_col, usecols, squeeze, prefix, mangle_dupe_cols, dtype, engine, converters, true_values, false_values, skipinitialspace, skiprows, skipfooter, nrows, na_values, keep_default_na, na_filter, verbose, skip_blank_lines, parse_dates, infer_datetime_format, keep_date_col, date_parser, dayfirst, cache_dates, iterator, chunksize, compression, thousands, decimal, lineterminator, quotechar, quoting, doublequote, escapechar, comment, encoding, dialect, error_bad_lines, warn_bad_lines, delim_whitespace, low_memory, memory_map, float_precision)\u001b[0m\n\u001b[1;32m    674\u001b[0m         )\n\u001b[1;32m    675\u001b[0m \u001b[0;34m\u001b[0m\u001b[0m\n\u001b[0;32m--> 676\u001b[0;31m         \u001b[0;32mreturn\u001b[0m \u001b[0m_read\u001b[0m\u001b[0;34m(\u001b[0m\u001b[0mfilepath_or_buffer\u001b[0m\u001b[0;34m,\u001b[0m \u001b[0mkwds\u001b[0m\u001b[0;34m)\u001b[0m\u001b[0;34m\u001b[0m\u001b[0;34m\u001b[0m\u001b[0m\n\u001b[0m\u001b[1;32m    677\u001b[0m \u001b[0;34m\u001b[0m\u001b[0m\n\u001b[1;32m    678\u001b[0m     \u001b[0mparser_f\u001b[0m\u001b[0;34m.\u001b[0m\u001b[0m__name__\u001b[0m \u001b[0;34m=\u001b[0m \u001b[0mname\u001b[0m\u001b[0;34m\u001b[0m\u001b[0;34m\u001b[0m\u001b[0m\n",
      "\u001b[0;32m~/opt/anaconda3/lib/python3.7/site-packages/pandas/io/parsers.py\u001b[0m in \u001b[0;36m_read\u001b[0;34m(filepath_or_buffer, kwds)\u001b[0m\n\u001b[1;32m    446\u001b[0m \u001b[0;34m\u001b[0m\u001b[0m\n\u001b[1;32m    447\u001b[0m     \u001b[0;31m# Create the parser.\u001b[0m\u001b[0;34m\u001b[0m\u001b[0;34m\u001b[0m\u001b[0;34m\u001b[0m\u001b[0m\n\u001b[0;32m--> 448\u001b[0;31m     \u001b[0mparser\u001b[0m \u001b[0;34m=\u001b[0m \u001b[0mTextFileReader\u001b[0m\u001b[0;34m(\u001b[0m\u001b[0mfp_or_buf\u001b[0m\u001b[0;34m,\u001b[0m \u001b[0;34m**\u001b[0m\u001b[0mkwds\u001b[0m\u001b[0;34m)\u001b[0m\u001b[0;34m\u001b[0m\u001b[0;34m\u001b[0m\u001b[0m\n\u001b[0m\u001b[1;32m    449\u001b[0m \u001b[0;34m\u001b[0m\u001b[0m\n\u001b[1;32m    450\u001b[0m     \u001b[0;32mif\u001b[0m \u001b[0mchunksize\u001b[0m \u001b[0;32mor\u001b[0m \u001b[0miterator\u001b[0m\u001b[0;34m:\u001b[0m\u001b[0;34m\u001b[0m\u001b[0;34m\u001b[0m\u001b[0m\n",
      "\u001b[0;32m~/opt/anaconda3/lib/python3.7/site-packages/pandas/io/parsers.py\u001b[0m in \u001b[0;36m__init__\u001b[0;34m(self, f, engine, **kwds)\u001b[0m\n\u001b[1;32m    878\u001b[0m             \u001b[0mself\u001b[0m\u001b[0;34m.\u001b[0m\u001b[0moptions\u001b[0m\u001b[0;34m[\u001b[0m\u001b[0;34m\"has_index_names\"\u001b[0m\u001b[0;34m]\u001b[0m \u001b[0;34m=\u001b[0m \u001b[0mkwds\u001b[0m\u001b[0;34m[\u001b[0m\u001b[0;34m\"has_index_names\"\u001b[0m\u001b[0;34m]\u001b[0m\u001b[0;34m\u001b[0m\u001b[0;34m\u001b[0m\u001b[0m\n\u001b[1;32m    879\u001b[0m \u001b[0;34m\u001b[0m\u001b[0m\n\u001b[0;32m--> 880\u001b[0;31m         \u001b[0mself\u001b[0m\u001b[0;34m.\u001b[0m\u001b[0m_make_engine\u001b[0m\u001b[0;34m(\u001b[0m\u001b[0mself\u001b[0m\u001b[0;34m.\u001b[0m\u001b[0mengine\u001b[0m\u001b[0;34m)\u001b[0m\u001b[0;34m\u001b[0m\u001b[0;34m\u001b[0m\u001b[0m\n\u001b[0m\u001b[1;32m    881\u001b[0m \u001b[0;34m\u001b[0m\u001b[0m\n\u001b[1;32m    882\u001b[0m     \u001b[0;32mdef\u001b[0m \u001b[0mclose\u001b[0m\u001b[0;34m(\u001b[0m\u001b[0mself\u001b[0m\u001b[0;34m)\u001b[0m\u001b[0;34m:\u001b[0m\u001b[0;34m\u001b[0m\u001b[0;34m\u001b[0m\u001b[0m\n",
      "\u001b[0;32m~/opt/anaconda3/lib/python3.7/site-packages/pandas/io/parsers.py\u001b[0m in \u001b[0;36m_make_engine\u001b[0;34m(self, engine)\u001b[0m\n\u001b[1;32m   1112\u001b[0m     \u001b[0;32mdef\u001b[0m \u001b[0m_make_engine\u001b[0m\u001b[0;34m(\u001b[0m\u001b[0mself\u001b[0m\u001b[0;34m,\u001b[0m \u001b[0mengine\u001b[0m\u001b[0;34m=\u001b[0m\u001b[0;34m\"c\"\u001b[0m\u001b[0;34m)\u001b[0m\u001b[0;34m:\u001b[0m\u001b[0;34m\u001b[0m\u001b[0;34m\u001b[0m\u001b[0m\n\u001b[1;32m   1113\u001b[0m         \u001b[0;32mif\u001b[0m \u001b[0mengine\u001b[0m \u001b[0;34m==\u001b[0m \u001b[0;34m\"c\"\u001b[0m\u001b[0;34m:\u001b[0m\u001b[0;34m\u001b[0m\u001b[0;34m\u001b[0m\u001b[0m\n\u001b[0;32m-> 1114\u001b[0;31m             \u001b[0mself\u001b[0m\u001b[0;34m.\u001b[0m\u001b[0m_engine\u001b[0m \u001b[0;34m=\u001b[0m \u001b[0mCParserWrapper\u001b[0m\u001b[0;34m(\u001b[0m\u001b[0mself\u001b[0m\u001b[0;34m.\u001b[0m\u001b[0mf\u001b[0m\u001b[0;34m,\u001b[0m \u001b[0;34m**\u001b[0m\u001b[0mself\u001b[0m\u001b[0;34m.\u001b[0m\u001b[0moptions\u001b[0m\u001b[0;34m)\u001b[0m\u001b[0;34m\u001b[0m\u001b[0;34m\u001b[0m\u001b[0m\n\u001b[0m\u001b[1;32m   1115\u001b[0m         \u001b[0;32melse\u001b[0m\u001b[0;34m:\u001b[0m\u001b[0;34m\u001b[0m\u001b[0;34m\u001b[0m\u001b[0m\n\u001b[1;32m   1116\u001b[0m             \u001b[0;32mif\u001b[0m \u001b[0mengine\u001b[0m \u001b[0;34m==\u001b[0m \u001b[0;34m\"python\"\u001b[0m\u001b[0;34m:\u001b[0m\u001b[0;34m\u001b[0m\u001b[0;34m\u001b[0m\u001b[0m\n",
      "\u001b[0;32m~/opt/anaconda3/lib/python3.7/site-packages/pandas/io/parsers.py\u001b[0m in \u001b[0;36m__init__\u001b[0;34m(self, src, **kwds)\u001b[0m\n\u001b[1;32m   1889\u001b[0m         \u001b[0mkwds\u001b[0m\u001b[0;34m[\u001b[0m\u001b[0;34m\"usecols\"\u001b[0m\u001b[0;34m]\u001b[0m \u001b[0;34m=\u001b[0m \u001b[0mself\u001b[0m\u001b[0;34m.\u001b[0m\u001b[0musecols\u001b[0m\u001b[0;34m\u001b[0m\u001b[0;34m\u001b[0m\u001b[0m\n\u001b[1;32m   1890\u001b[0m \u001b[0;34m\u001b[0m\u001b[0m\n\u001b[0;32m-> 1891\u001b[0;31m         \u001b[0mself\u001b[0m\u001b[0;34m.\u001b[0m\u001b[0m_reader\u001b[0m \u001b[0;34m=\u001b[0m \u001b[0mparsers\u001b[0m\u001b[0;34m.\u001b[0m\u001b[0mTextReader\u001b[0m\u001b[0;34m(\u001b[0m\u001b[0msrc\u001b[0m\u001b[0;34m,\u001b[0m \u001b[0;34m**\u001b[0m\u001b[0mkwds\u001b[0m\u001b[0;34m)\u001b[0m\u001b[0;34m\u001b[0m\u001b[0;34m\u001b[0m\u001b[0m\n\u001b[0m\u001b[1;32m   1892\u001b[0m         \u001b[0mself\u001b[0m\u001b[0;34m.\u001b[0m\u001b[0munnamed_cols\u001b[0m \u001b[0;34m=\u001b[0m \u001b[0mself\u001b[0m\u001b[0;34m.\u001b[0m\u001b[0m_reader\u001b[0m\u001b[0;34m.\u001b[0m\u001b[0munnamed_cols\u001b[0m\u001b[0;34m\u001b[0m\u001b[0;34m\u001b[0m\u001b[0m\n\u001b[1;32m   1893\u001b[0m \u001b[0;34m\u001b[0m\u001b[0m\n",
      "\u001b[0;32mpandas/_libs/parsers.pyx\u001b[0m in \u001b[0;36mpandas._libs.parsers.TextReader.__cinit__\u001b[0;34m()\u001b[0m\n",
      "\u001b[0;32mpandas/_libs/parsers.pyx\u001b[0m in \u001b[0;36mpandas._libs.parsers.TextReader._setup_parser_source\u001b[0;34m()\u001b[0m\n",
      "\u001b[0;31mFileNotFoundError\u001b[0m: [Errno 2] File /content/drive/MyDrive/Datasets/DellGSPE_DSrole_dataset.csv does not exist: '/content/drive/MyDrive/Datasets/DellGSPE_DSrole_dataset.csv'"
     ]
    }
   ],
   "source": [
    "# read the data\n",
    "df = pd.read_csv(\"/content/drive/MyDrive/Datasets/DellGSPE_DSrole_dataset.csv\", sep=',')\n",
    "\n",
    "df_org = df.copy()"
   ]
  },
  {
   "cell_type": "code",
   "execution_count": 3,
   "metadata": {
    "colab": {
     "base_uri": "https://localhost:8080/"
    },
    "executionInfo": {
     "elapsed": 6,
     "status": "ok",
     "timestamp": 1626740808614,
     "user": {
      "displayName": "Pranav Mandolkar",
      "photoUrl": "https://lh3.googleusercontent.com/a-/AOh14GhkkcVpx7Q7nguHF5VhYApRc8cX52Sj5GpAVeixpwI=s64",
      "userId": "11053925234622878391"
     },
     "user_tz": 300
    },
    "id": "S8JkYU7xyQDd",
    "outputId": "d8863b9b-a1f0-4c2c-e9e0-8db8381c9f78"
   },
   "outputs": [
    {
     "name": "stdout",
     "output_type": "stream",
     "text": [
      "(100000, 19)\n",
      "asst_id                  int64\n",
      "product_type            object\n",
      "mnfture_wk               int64\n",
      "contract_st              int64\n",
      "contract_end             int64\n",
      "contact_wk               int64\n",
      "contact_type            object\n",
      "issue_type              object\n",
      "topic_category          object\n",
      "parts_sent              object\n",
      "repair_type             object\n",
      "repeat_ct                int64\n",
      "parts_ct                 int64\n",
      "agent_tenure_indays    float64\n",
      "contact_manager_flg      int64\n",
      "diagnostics             object\n",
      "repeat_parts_sent       object\n",
      "region                  object\n",
      "country                 object\n",
      "dtype: object\n"
     ]
    }
   ],
   "source": [
    "# shape and data types of the dataset\n",
    "print(df.shape)\n",
    "print(df.dtypes)"
   ]
  },
  {
   "cell_type": "markdown",
   "metadata": {
    "id": "rK4WQ6QFgxxx"
   },
   "source": [
    "\n",
    "\n",
    "\n",
    "Extracting numerical and Categorical columns for further manipulation"
   ]
  },
  {
   "cell_type": "code",
   "execution_count": 4,
   "metadata": {
    "colab": {
     "base_uri": "https://localhost:8080/"
    },
    "executionInfo": {
     "elapsed": 124,
     "status": "ok",
     "timestamp": 1626740810107,
     "user": {
      "displayName": "Pranav Mandolkar",
      "photoUrl": "https://lh3.googleusercontent.com/a-/AOh14GhkkcVpx7Q7nguHF5VhYApRc8cX52Sj5GpAVeixpwI=s64",
      "userId": "11053925234622878391"
     },
     "user_tz": 300
    },
    "id": "8CG0_TeilSs0",
    "outputId": "ee754d5e-95be-4343-877e-a1725c097203"
   },
   "outputs": [
    {
     "name": "stdout",
     "output_type": "stream",
     "text": [
      "['asst_id' 'mnfture_wk' 'contract_st' 'contract_end' 'contact_wk'\n",
      " 'repeat_ct' 'parts_ct' 'agent_tenure_indays' 'contact_manager_flg']\n"
     ]
    }
   ],
   "source": [
    "# select the numerical columns\n",
    "\n",
    "df_numeric = df.select_dtypes(include=[np.number])\n",
    "numeric_cols = df_numeric.columns.values\n",
    "print(numeric_cols)"
   ]
  },
  {
   "cell_type": "code",
   "execution_count": 5,
   "metadata": {
    "colab": {
     "base_uri": "https://localhost:8080/"
    },
    "executionInfo": {
     "elapsed": 152,
     "status": "ok",
     "timestamp": 1626740811582,
     "user": {
      "displayName": "Pranav Mandolkar",
      "photoUrl": "https://lh3.googleusercontent.com/a-/AOh14GhkkcVpx7Q7nguHF5VhYApRc8cX52Sj5GpAVeixpwI=s64",
      "userId": "11053925234622878391"
     },
     "user_tz": 300
    },
    "id": "gl0jy-48qk7A",
    "outputId": "9b63c16f-918f-4905-935a-7d3872445cd9"
   },
   "outputs": [
    {
     "name": "stdout",
     "output_type": "stream",
     "text": [
      "['product_type' 'contact_type' 'issue_type' 'topic_category' 'parts_sent'\n",
      " 'repair_type' 'diagnostics' 'repeat_parts_sent' 'region' 'country']\n"
     ]
    }
   ],
   "source": [
    "# select non numeric columns\n",
    "\n",
    "df_non_numeric = df.select_dtypes(exclude=[np.number])\n",
    "non_numeric_cols = df_non_numeric.columns.values\n",
    "print(non_numeric_cols)"
   ]
  },
  {
   "cell_type": "markdown",
   "metadata": {
    "id": "4DJZW16WhNHq"
   },
   "source": [
    "Initial analysis of the missing data by columns,\n",
    "\n",
    "We can see that 5 columns have missing values which needs to be filled in for unbiased data analysis"
   ]
  },
  {
   "cell_type": "code",
   "execution_count": 6,
   "metadata": {
    "colab": {
     "base_uri": "https://localhost:8080/",
     "height": 381
    },
    "executionInfo": {
     "elapsed": 3244,
     "status": "ok",
     "timestamp": 1626740816327,
     "user": {
      "displayName": "Pranav Mandolkar",
      "photoUrl": "https://lh3.googleusercontent.com/a-/AOh14GhkkcVpx7Q7nguHF5VhYApRc8cX52Sj5GpAVeixpwI=s64",
      "userId": "11053925234622878391"
     },
     "user_tz": 300
    },
    "id": "y9oGqHoAqvqN",
    "outputId": "c6162ee5-9906-49b6-86ac-ddb22096ceba"
   },
   "outputs": [
    {
     "data": {
      "text/plain": [
       "<matplotlib.axes._subplots.AxesSubplot at 0x7f2576511310>"
      ]
     },
     "execution_count": 6,
     "metadata": {
      "tags": []
     },
     "output_type": "execute_result"
    },
    {
     "data": {
      "image/png": "[encoded data removed]",
      "text/plain": [
       "<Figure size 432x288 with 2 Axes>"
      ]
     },
     "metadata": {
      "needs_background": "light",
      "tags": []
     },
     "output_type": "display_data"
    }
   ],
   "source": [
    "cols = df.columns[:19]\n",
    "colors = ['#000099','#FF0000'] # Blue for missung data and Red is not missing\n",
    "\n",
    "sns.heatmap(df[cols].isnull(), cmap=sns.color_palette(colors))"
   ]
  },
  {
   "cell_type": "code",
   "execution_count": 7,
   "metadata": {
    "colab": {
     "base_uri": "https://localhost:8080/"
    },
    "executionInfo": {
     "elapsed": 52,
     "status": "ok",
     "timestamp": 1626740816331,
     "user": {
      "displayName": "Pranav Mandolkar",
      "photoUrl": "https://lh3.googleusercontent.com/a-/AOh14GhkkcVpx7Q7nguHF5VhYApRc8cX52Sj5GpAVeixpwI=s64",
      "userId": "11053925234622878391"
     },
     "user_tz": 300
    },
    "id": "4Czz3Dcwr2VB",
    "outputId": "031d2c10-bf51-4221-cca8-4af3a3140dc5"
   },
   "outputs": [
    {
     "name": "stdout",
     "output_type": "stream",
     "text": [
      "asst_id - 0%\n",
      "product_type - 0%\n",
      "mnfture_wk - 0%\n",
      "contract_st - 0%\n",
      "contract_end - 0%\n",
      "contact_wk - 0%\n",
      "contact_type - 0%\n",
      "issue_type - 14%\n",
      "topic_category - 33%\n",
      "parts_sent - 45%\n",
      "repair_type - 0%\n",
      "repeat_ct - 0%\n",
      "parts_ct - 0%\n",
      "agent_tenure_indays - 0%\n",
      "contact_manager_flg - 0%\n",
      "diagnostics - 0%\n",
      "repeat_parts_sent - 87%\n",
      "region - 0%\n",
      "country - 10%\n"
     ]
    }
   ],
   "source": [
    "# Percentage of missing data by columns\n",
    "\n",
    "for col in df.columns:\n",
    "  pct_missing = np.mean(df[col].isnull())\n",
    "  print('{} - {}%'.format(col, round(pct_missing*100)))\n"
   ]
  },
  {
   "cell_type": "markdown",
   "metadata": {
    "id": "RnjF9UGzkiSk"
   },
   "source": [
    "• Calculated number of missing values by row,\n",
    "\n",
    "• This helps to remove lines when certain rows have more number of missing values than pre-defined threshold.\n",
    "\n",
    "• In our case we have few records where maximum of 6 columns have blank. But we will not drop these lines as we will try to fill these blank values first"
   ]
  },
  {
   "cell_type": "code",
   "execution_count": 8,
   "metadata": {
    "colab": {
     "base_uri": "https://localhost:8080/",
     "height": 446
    },
    "executionInfo": {
     "elapsed": 455,
     "status": "ok",
     "timestamp": 1626740818285,
     "user": {
      "displayName": "Pranav Mandolkar",
      "photoUrl": "https://lh3.googleusercontent.com/a-/AOh14GhkkcVpx7Q7nguHF5VhYApRc8cX52Sj5GpAVeixpwI=s64",
      "userId": "11053925234622878391"
     },
     "user_tz": 300
    },
    "id": "suvflROwv5I1",
    "outputId": "02c1ca00-4f99-42a8-b207-710f19440a7d"
   },
   "outputs": [
    {
     "name": "stdout",
     "output_type": "stream",
     "text": [
      "created missing indicator for: product_type\n",
      "created missing indicator for: contact_type\n",
      "created missing indicator for: issue_type\n",
      "created missing indicator for: topic_category\n",
      "created missing indicator for: parts_sent\n",
      "created missing indicator for: agent_tenure_indays\n",
      "created missing indicator for: repeat_parts_sent\n",
      "created missing indicator for: region\n",
      "created missing indicator for: country\n"
     ]
    },
    {
     "data": {
      "text/plain": [
       "<matplotlib.axes._subplots.AxesSubplot at 0x7f256d60d5d0>"
      ]
     },
     "execution_count": 8,
     "metadata": {
      "tags": []
     },
     "output_type": "execute_result"
    },
    {
     "data": {
      "image/png": "[encoded data removed]",
      "text/plain": [
       "<Figure size 432x288 with 1 Axes>"
      ]
     },
     "metadata": {
      "needs_background": "light",
      "tags": []
     },
     "output_type": "display_data"
    }
   ],
   "source": [
    "# Finding number of missing values by rows\n",
    "\n",
    "for col in df.columns:\n",
    "  missing = df[col].isnull()\n",
    "  num_missing = np.sum(missing)\n",
    "\n",
    "  if num_missing > 0:\n",
    "    print('created missing indicator for: {}'.format(col))\n",
    "    df['{}_ismissing'.format(col)] = missing\n",
    "\n",
    "  \n",
    "\n",
    "# Adding missing values by row to compute missing values by row\n",
    "\n",
    "ismissing_cols = [col for col in df.columns if 'ismissing' in col]\n",
    "df['num_missing'] = df[ismissing_cols].sum(axis=1)\n",
    "\n",
    "df['num_missing'].value_counts().reset_index().sort_values(by='index').plot.bar(x='index', y='num_missing')\n"
   ]
  },
  {
   "cell_type": "markdown",
   "metadata": {
    "id": "ldaZYujxlk8Z"
   },
   "source": [
    "\n",
    "• Columns \"Repeat_parts_sent\" and \"parts_sent\" have valid blank values. These blank values tells that no \"parts\" are sent for this repair record. Hence, blank values cannot be replaced by \"mode\" function. I replaced and filled these values with \"NOT_USED\" string\n",
    "\n",
    "*   I also found some duplicate records which I have deleted from the dataframe\n",
    "\n"
   ]
  },
  {
   "cell_type": "code",
   "execution_count": 9,
   "metadata": {
    "executionInfo": {
     "elapsed": 511,
     "status": "ok",
     "timestamp": 1626740821730,
     "user": {
      "displayName": "Pranav Mandolkar",
      "photoUrl": "https://lh3.googleusercontent.com/a-/AOh14GhkkcVpx7Q7nguHF5VhYApRc8cX52Sj5GpAVeixpwI=s64",
      "userId": "11053925234622878391"
     },
     "user_tz": 300
    },
    "id": "uZKkUnUTZWXi"
   },
   "outputs": [],
   "source": [
    "#Replacing missing values\n",
    "\n",
    "\n",
    "df['repeat_parts_sent'] = df['repeat_parts_sent'].fillna('NOT_USED')\n",
    "df['parts_sent'] = df['parts_sent'].fillna('NOT_USED')\n",
    "\n",
    "df = df.drop_duplicates().reset_index()"
   ]
  },
  {
   "cell_type": "code",
   "execution_count": 10,
   "metadata": {
    "colab": {
     "base_uri": "https://localhost:8080/",
     "height": 381
    },
    "executionInfo": {
     "elapsed": 2714,
     "status": "ok",
     "timestamp": 1626740826688,
     "user": {
      "displayName": "Pranav Mandolkar",
      "photoUrl": "https://lh3.googleusercontent.com/a-/AOh14GhkkcVpx7Q7nguHF5VhYApRc8cX52Sj5GpAVeixpwI=s64",
      "userId": "11053925234622878391"
     },
     "user_tz": 300
    },
    "id": "fH3AIDEja1_l",
    "outputId": "259fafed-9959-46ff-aa4d-51ba6c174a7b"
   },
   "outputs": [
    {
     "data": {
      "text/plain": [
       "<matplotlib.axes._subplots.AxesSubplot at 0x7f256d5a2a10>"
      ]
     },
     "execution_count": 10,
     "metadata": {
      "tags": []
     },
     "output_type": "execute_result"
    },
    {
     "data": {
      "image/png": "[encoded data removed]",
      "text/plain": [
       "<Figure size 432x288 with 2 Axes>"
      ]
     },
     "metadata": {
      "needs_background": "light",
      "tags": []
     },
     "output_type": "display_data"
    }
   ],
   "source": [
    "cols = df.columns[:19]\n",
    "colors = ['#000099','#FF0000'] # Blue for missung data and Red is not missing\n",
    "\n",
    "sns.heatmap(df[cols].isnull(), cmap=sns.color_palette(colors))"
   ]
  },
  {
   "cell_type": "code",
   "execution_count": 11,
   "metadata": {
    "colab": {
     "base_uri": "https://localhost:8080/",
     "height": 377
    },
    "executionInfo": {
     "elapsed": 95,
     "status": "ok",
     "timestamp": 1626740832626,
     "user": {
      "displayName": "Pranav Mandolkar",
      "photoUrl": "https://lh3.googleusercontent.com/a-/AOh14GhkkcVpx7Q7nguHF5VhYApRc8cX52Sj5GpAVeixpwI=s64",
      "userId": "11053925234622878391"
     },
     "user_tz": 300
    },
    "id": "kzWdO-PnOu08",
    "outputId": "e92476b2-af24-4aa7-cf57-a40fc3826e6f"
   },
   "outputs": [
    {
     "data": {
      "text/html": [
       "<div>\n",
       "<style scoped>\n",
       "    .dataframe tbody tr th:only-of-type {\n",
       "        vertical-align: middle;\n",
       "    }\n",
       "\n",
       "    .dataframe tbody tr th {\n",
       "        vertical-align: top;\n",
       "    }\n",
       "\n",
       "    .dataframe thead th {\n",
       "        text-align: right;\n",
       "    }\n",
       "</style>\n",
       "<table border=\"1\" class=\"dataframe\">\n",
       "  <thead>\n",
       "    <tr style=\"text-align: right;\">\n",
       "      <th></th>\n",
       "      <th>index</th>\n",
       "      <th>asst_id</th>\n",
       "      <th>product_type</th>\n",
       "      <th>mnfture_wk</th>\n",
       "      <th>contract_st</th>\n",
       "      <th>contract_end</th>\n",
       "      <th>contact_wk</th>\n",
       "      <th>contact_type</th>\n",
       "      <th>issue_type</th>\n",
       "      <th>topic_category</th>\n",
       "      <th>parts_sent</th>\n",
       "      <th>repair_type</th>\n",
       "      <th>repeat_ct</th>\n",
       "      <th>parts_ct</th>\n",
       "      <th>agent_tenure_indays</th>\n",
       "      <th>contact_manager_flg</th>\n",
       "      <th>diagnostics</th>\n",
       "      <th>repeat_parts_sent</th>\n",
       "      <th>region</th>\n",
       "      <th>country</th>\n",
       "      <th>product_type_ismissing</th>\n",
       "      <th>contact_type_ismissing</th>\n",
       "      <th>issue_type_ismissing</th>\n",
       "      <th>topic_category_ismissing</th>\n",
       "      <th>parts_sent_ismissing</th>\n",
       "      <th>agent_tenure_indays_ismissing</th>\n",
       "      <th>repeat_parts_sent_ismissing</th>\n",
       "      <th>region_ismissing</th>\n",
       "      <th>country_ismissing</th>\n",
       "      <th>num_missing</th>\n",
       "    </tr>\n",
       "  </thead>\n",
       "  <tbody>\n",
       "    <tr>\n",
       "      <th>0</th>\n",
       "      <td>0</td>\n",
       "      <td>0</td>\n",
       "      <td>Laptops</td>\n",
       "      <td>201726</td>\n",
       "      <td>201726</td>\n",
       "      <td>202125</td>\n",
       "      <td>201840</td>\n",
       "      <td>Voice</td>\n",
       "      <td>NaN</td>\n",
       "      <td>NaN</td>\n",
       "      <td>Hard Drive, Documentation(2)</td>\n",
       "      <td>Hard</td>\n",
       "      <td>0</td>\n",
       "      <td>3</td>\n",
       "      <td>1018.0</td>\n",
       "      <td>0</td>\n",
       "      <td>Not_USED</td>\n",
       "      <td>NOT_USED</td>\n",
       "      <td>Hogwarts</td>\n",
       "      <td>NaN</td>\n",
       "      <td>False</td>\n",
       "      <td>False</td>\n",
       "      <td>True</td>\n",
       "      <td>True</td>\n",
       "      <td>False</td>\n",
       "      <td>False</td>\n",
       "      <td>True</td>\n",
       "      <td>False</td>\n",
       "      <td>True</td>\n",
       "      <td>4</td>\n",
       "    </tr>\n",
       "    <tr>\n",
       "      <th>1</th>\n",
       "      <td>1</td>\n",
       "      <td>1</td>\n",
       "      <td>Laptops</td>\n",
       "      <td>201650</td>\n",
       "      <td>201650</td>\n",
       "      <td>201949</td>\n",
       "      <td>201840</td>\n",
       "      <td>Voice</td>\n",
       "      <td>NaN</td>\n",
       "      <td>NaN</td>\n",
       "      <td>Speaker, Chassis</td>\n",
       "      <td>Hard</td>\n",
       "      <td>0</td>\n",
       "      <td>2</td>\n",
       "      <td>1018.0</td>\n",
       "      <td>0</td>\n",
       "      <td>Not_USED</td>\n",
       "      <td>NOT_USED</td>\n",
       "      <td>Hogwarts</td>\n",
       "      <td>Zonko's Joke Shop</td>\n",
       "      <td>False</td>\n",
       "      <td>False</td>\n",
       "      <td>True</td>\n",
       "      <td>True</td>\n",
       "      <td>False</td>\n",
       "      <td>False</td>\n",
       "      <td>True</td>\n",
       "      <td>False</td>\n",
       "      <td>False</td>\n",
       "      <td>3</td>\n",
       "    </tr>\n",
       "    <tr>\n",
       "      <th>2</th>\n",
       "      <td>2</td>\n",
       "      <td>2</td>\n",
       "      <td>Laptops</td>\n",
       "      <td>201821</td>\n",
       "      <td>201821</td>\n",
       "      <td>202222</td>\n",
       "      <td>201840</td>\n",
       "      <td>Voice</td>\n",
       "      <td>NaN</td>\n",
       "      <td>NaN</td>\n",
       "      <td>Cables</td>\n",
       "      <td>Hard</td>\n",
       "      <td>0</td>\n",
       "      <td>1</td>\n",
       "      <td>1018.0</td>\n",
       "      <td>0</td>\n",
       "      <td>Not_USED</td>\n",
       "      <td>Motherboard, Miscellaneous(2), Hard Drive, Cha...</td>\n",
       "      <td>Hogwarts</td>\n",
       "      <td>Zonko's Joke Shop</td>\n",
       "      <td>False</td>\n",
       "      <td>False</td>\n",
       "      <td>True</td>\n",
       "      <td>True</td>\n",
       "      <td>False</td>\n",
       "      <td>False</td>\n",
       "      <td>False</td>\n",
       "      <td>False</td>\n",
       "      <td>False</td>\n",
       "      <td>2</td>\n",
       "    </tr>\n",
       "    <tr>\n",
       "      <th>3</th>\n",
       "      <td>3</td>\n",
       "      <td>3</td>\n",
       "      <td>Laptops</td>\n",
       "      <td>201608</td>\n",
       "      <td>201608</td>\n",
       "      <td>201908</td>\n",
       "      <td>201840</td>\n",
       "      <td>VOICE</td>\n",
       "      <td>Hard Drive</td>\n",
       "      <td>Booting</td>\n",
       "      <td>Hard Drive</td>\n",
       "      <td>Hard</td>\n",
       "      <td>0</td>\n",
       "      <td>1</td>\n",
       "      <td>298.0</td>\n",
       "      <td>0</td>\n",
       "      <td>Effective_Usage</td>\n",
       "      <td>NOT_USED</td>\n",
       "      <td>Hogwarts</td>\n",
       "      <td>Zonko's Joke Shop</td>\n",
       "      <td>False</td>\n",
       "      <td>False</td>\n",
       "      <td>False</td>\n",
       "      <td>False</td>\n",
       "      <td>False</td>\n",
       "      <td>False</td>\n",
       "      <td>True</td>\n",
       "      <td>False</td>\n",
       "      <td>False</td>\n",
       "      <td>1</td>\n",
       "    </tr>\n",
       "    <tr>\n",
       "      <th>4</th>\n",
       "      <td>4</td>\n",
       "      <td>4</td>\n",
       "      <td>Laptops</td>\n",
       "      <td>201732</td>\n",
       "      <td>201732</td>\n",
       "      <td>202032</td>\n",
       "      <td>201840</td>\n",
       "      <td>Voice</td>\n",
       "      <td>NaN</td>\n",
       "      <td>NaN</td>\n",
       "      <td>Battery (Notebook)</td>\n",
       "      <td>Hard</td>\n",
       "      <td>0</td>\n",
       "      <td>1</td>\n",
       "      <td>1018.0</td>\n",
       "      <td>0</td>\n",
       "      <td>Not_USED</td>\n",
       "      <td>NOT_USED</td>\n",
       "      <td>Hogwarts</td>\n",
       "      <td>Zonko's Joke Shop</td>\n",
       "      <td>False</td>\n",
       "      <td>False</td>\n",
       "      <td>True</td>\n",
       "      <td>True</td>\n",
       "      <td>False</td>\n",
       "      <td>False</td>\n",
       "      <td>True</td>\n",
       "      <td>False</td>\n",
       "      <td>False</td>\n",
       "      <td>3</td>\n",
       "    </tr>\n",
       "  </tbody>\n",
       "</table>\n",
       "</div>"
      ],
      "text/plain": [
       "   index  asst_id  ... country_ismissing  num_missing\n",
       "0      0        0  ...              True            4\n",
       "1      1        1  ...             False            3\n",
       "2      2        2  ...             False            2\n",
       "3      3        3  ...             False            1\n",
       "4      4        4  ...             False            3\n",
       "\n",
       "[5 rows x 30 columns]"
      ]
     },
     "execution_count": 11,
     "metadata": {
      "tags": []
     },
     "output_type": "execute_result"
    }
   ],
   "source": [
    "df.head()"
   ]
  },
  {
   "cell_type": "markdown",
   "metadata": {
    "id": "vAxods-BofaB"
   },
   "source": [
    "**Next Step is cleaning columns \"issue_type\" and \"topic_category\"**\n",
    "\n",
    "*   From initial data analysis, I found that \"issue_type\", \"topic_category\" and \"parts_sent\" are dependent/correlated columns\n",
    "*   In multiple occurrences, these 3 columns have same combination of the values \n",
    "*   Hence, we can derive the values of \"issue_type\" and \"topic_category\" from column \"parts_sent\"\n",
    "*   To achieve this I tried using multivariate imputers to achieve best classification for the missing values\n",
    "*   For starters, I used KNN Imputer and iterative imputer functions on the data\n",
    "*   One of the issue I faced while doing this is, classes are not correctly identified by the most frequent observations. Also, These imputer better work for numerical columns (In our case, we have categorical features)\n",
    "*   I have commented the code where I tried implementing KNN Imputer but results were having wrong data filled in missing cells \n",
    "\n",
    "\n",
    "\n",
    "\n",
    "\n",
    "\n",
    "\n",
    "\n",
    "\n",
    "\n"
   ]
  },
  {
   "cell_type": "code",
   "execution_count": 12,
   "metadata": {
    "colab": {
     "base_uri": "https://localhost:8080/",
     "height": 171
    },
    "executionInfo": {
     "elapsed": 113,
     "status": "ok",
     "timestamp": 1626740842634,
     "user": {
      "displayName": "Pranav Mandolkar",
      "photoUrl": "https://lh3.googleusercontent.com/a-/AOh14GhkkcVpx7Q7nguHF5VhYApRc8cX52Sj5GpAVeixpwI=s64",
      "userId": "11053925234622878391"
     },
     "user_tz": 300
    },
    "id": "xEk8y-5s0sVV",
    "outputId": "475c6267-d4b4-4956-8a4e-8bfe869ec15a"
   },
   "outputs": [
    {
     "data": {
      "application/vnd.google.colaboratory.intrinsic+json": {
       "type": "string"
      },
      "text/plain": [
       "'\\nimport numpy as np\\nimport pandas as pd\\nfrom sklearn.impute import KNNImputer\\nfrom sklearn.preprocessing import MinMaxScaler\\nfrom sklearn.experimental import enable_iterative_imputer \\nfrom sklearn.impute import IterativeImputer\\n\\ndf_1 = df.copy()\\n\\ndf_1 = df_1[[\"issue_type\", \"topic_category\", \"parts_sent\"]]\\n\\nmm = MinMaxScaler()\\n\\ndef find_category_mappings(df_1, variable):\\n    return {k: i for i, k in enumerate(df_1[variable].dropna().unique(), 0)}\\n\\ndef integer_encode(df_1 , variable, ordinal_mapping):\\n    df[variable] = df[variable].map(ordinal_mapping)\\n\\nmappin = dict()\\ndef imputation(df1 , cols):\\n    df_1 = df1.copy()\\n    #Encoding dict &amp; Removing nan    \\n    #mappin = dict()\\n    for variable in cols:\\n        mappings = find_category_mappings(df_1, variable)\\n        mappin[variable] = mappings\\n\\n    #Apply mapping\\n    for variable in cols:\\n        integer_encode(df_1, variable, mappin[variable])  \\n\\n    #Minmaxscaler and KNN imputation \\n    sca = mm.fit_transform(df_1)\\n    knn_imputer = IterativeImputer()\\n    knn = knn_imputer.fit_transform(sca)\\n    df_1.iloc[:,:] = mm.inverse_transform(knn)\\n    for i in df_1.columns : \\n        df_1[i] = round(df_1[i]).astype(\\'int\\')\\n\\n    #Inverse transform\\n    for i in cols:\\n        inv_map = {v: k for k, v in mappin[i].items()}\\n        df_1[i] = df_1[i].map(inv_map)\\n    return df\\n\\n\\n#Imputation\\nimputation(df_1,[\\'issue_type\\', \\'topic_category\\'])\\n'"
      ]
     },
     "execution_count": 12,
     "metadata": {
      "tags": []
     },
     "output_type": "execute_result"
    }
   ],
   "source": [
    "'''\n",
    "import numpy as np\n",
    "import pandas as pd\n",
    "from sklearn.impute import KNNImputer\n",
    "from sklearn.preprocessing import MinMaxScaler\n",
    "from sklearn.experimental import enable_iterative_imputer \n",
    "from sklearn.impute import IterativeImputer\n",
    "\n",
    "df_1 = df.copy()\n",
    "\n",
    "df_1 = df_1[[\"issue_type\", \"topic_category\", \"parts_sent\"]]\n",
    "\n",
    "mm = MinMaxScaler()\n",
    "\n",
    "def find_category_mappings(df_1, variable):\n",
    "    return {k: i for i, k in enumerate(df_1[variable].dropna().unique(), 0)}\n",
    "\n",
    "def integer_encode(df_1 , variable, ordinal_mapping):\n",
    "    df[variable] = df[variable].map(ordinal_mapping)\n",
    "\n",
    "mappin = dict()\n",
    "def imputation(df1 , cols):\n",
    "    df_1 = df1.copy()\n",
    "    #Encoding dict &amp; Removing nan    \n",
    "    #mappin = dict()\n",
    "    for variable in cols:\n",
    "        mappings = find_category_mappings(df_1, variable)\n",
    "        mappin[variable] = mappings\n",
    "\n",
    "    #Apply mapping\n",
    "    for variable in cols:\n",
    "        integer_encode(df_1, variable, mappin[variable])  \n",
    "\n",
    "    #Minmaxscaler and KNN imputation \n",
    "    sca = mm.fit_transform(df_1)\n",
    "    knn_imputer = IterativeImputer()\n",
    "    knn = knn_imputer.fit_transform(sca)\n",
    "    df_1.iloc[:,:] = mm.inverse_transform(knn)\n",
    "    for i in df_1.columns : \n",
    "        df_1[i] = round(df_1[i]).astype('int')\n",
    "\n",
    "    #Inverse transform\n",
    "    for i in cols:\n",
    "        inv_map = {v: k for k, v in mappin[i].items()}\n",
    "        df_1[i] = df_1[i].map(inv_map)\n",
    "    return df\n",
    "\n",
    "\n",
    "#Imputation\n",
    "imputation(df_1,['issue_type', 'topic_category'])\n",
    "'''\n"
   ]
  },
  {
   "cell_type": "markdown",
   "metadata": {
    "id": "Of0a64EQwZQ9"
   },
   "source": [
    "**Alternative for the Mutivariate Imputers to fill missing values - (Manual)**\n",
    "\n",
    "*   I grouped the 'part_sent' with the columns which we are trying to fill values\n",
    "*   After grouping I found the top occurrence of \"issue_type\" and \"topic_cateory\" for each value of 'part_Sent'\n",
    "*   Then I merged/ left joined the occurrence with our main data set\n",
    "*   Replaced the values from main dataset columns where values are missing\n",
    "*   This part took lot of iteration of finding correct way to fill the data as this is most important columns in our analysis\n",
    "*   Further cleaning can be done towards multiple combinations and can take mutiple column to find max occurrences of the different combinations. Due to time constraint I could not do everything.\n",
    "\n",
    "\n",
    "\n",
    "\n",
    "\n",
    "\n",
    "\n",
    "\n",
    "\n",
    "\n",
    "\n",
    "\n"
   ]
  },
  {
   "cell_type": "code",
   "execution_count": 13,
   "metadata": {
    "colab": {
     "base_uri": "https://localhost:8080/"
    },
    "executionInfo": {
     "elapsed": 1575,
     "status": "ok",
     "timestamp": 1626740853249,
     "user": {
      "displayName": "Pranav Mandolkar",
      "photoUrl": "https://lh3.googleusercontent.com/a-/AOh14GhkkcVpx7Q7nguHF5VhYApRc8cX52Sj5GpAVeixpwI=s64",
      "userId": "11053925234622878391"
     },
     "user_tz": 300
    },
    "id": "nv1FLSGv5kcB",
    "outputId": "214f390b-ecca-4b79-e773-4fbb8b35d3bd"
   },
   "outputs": [
    {
     "name": "stderr",
     "output_type": "stream",
     "text": [
      "/usr/local/lib/python3.7/dist-packages/ipykernel_launcher.py:23: SettingWithCopyWarning: \n",
      "A value is trying to be set on a copy of a slice from a DataFrame.\n",
      "Try using .loc[row_indexer,col_indexer] = value instead\n",
      "\n",
      "See the caveats in the documentation: https://pandas.pydata.org/pandas-docs/stable/user_guide/indexing.html#returning-a-view-versus-a-copy\n"
     ]
    }
   ],
   "source": [
    "df_r = df[['asst_id','parts_sent', 'issue_type']]\n",
    "\n",
    "df_tc = df[['asst_id','parts_sent', 'topic_category']]\n",
    "\n",
    "#df_g = df_r.groupby(['issue_type', 'parts_sent']).size().groupby(level=0).idxmax().apply(lambda x: x[1]).reset_index(name='parts_sent')\n",
    "\n",
    "s = df_r.groupby(['parts_sent','issue_type']).size()\n",
    "df_g = s.loc[s.groupby(level=0).idxmax()].reset_index().drop(0,axis=1) #finding top occurences of the 'issue_type' for each 'parts_sent' column values\n",
    "\n",
    "df_g.columns = ['parts_sent','issue_type_1']\n",
    "\n",
    "df_g.loc[df_g['parts_sent'] == 'NOT_USED', 'issue_type_1'] = 'Information Request' # There are some rows with values of \"NOT_sent\" which cannot be used to derive the \"issue_type\". \n",
    "#Hence, defaulting it to the most general category 'Information Request' \n",
    "\n",
    "left_join_1 = pd.merge(df, df_g, on = 'parts_sent', how ='left') #merging (Left join the most common issue types with original dataset)\n",
    "\n",
    "df = left_join_1[['asst_id', 'product_type', 'mnfture_wk', 'contract_st', 'contract_end',\n",
    "       'contact_wk', 'contact_type', 'issue_type', 'issue_type_1', 'topic_category',\n",
    "       'parts_sent', 'repair_type', 'repeat_ct', 'parts_ct',\n",
    "       'agent_tenure_indays', 'contact_manager_flg', 'diagnostics',\n",
    "       'repeat_parts_sent', 'region', 'country']]\n",
    "\n",
    "df['issue_type'] = np.where(df['issue_type'].isnull(), df['issue_type_1'], df['issue_type']) #replacing null values with merger column.\n",
    "\n",
    "\n",
    "# Performed same steps to identify missing Topic_Category from top occurences of the 'Topic_category' by 'parts_sent' column\n",
    "tc = df_tc.groupby(['parts_sent', 'topic_category']).size()\n",
    "df_k = tc.loc[tc.groupby(level=0).idxmax()].reset_index().drop(0,axis=1)\n",
    "\n",
    "\n",
    "df_k.columns = ['parts_sent','topic_category_1']\n",
    "\n",
    "left_join_2 = pd.merge(df, df_k, on = 'parts_sent', how ='left')\n",
    "\n",
    "df = left_join_2[['asst_id', 'product_type', 'mnfture_wk', 'contract_st', 'contract_end',\n",
    "       'contact_wk', 'contact_type', 'issue_type', 'issue_type_1', 'topic_category', 'topic_category_1',\n",
    "       'parts_sent', 'repair_type', 'repeat_ct', 'parts_ct',\n",
    "       'agent_tenure_indays', 'contact_manager_flg', 'diagnostics',\n",
    "       'repeat_parts_sent', 'region', 'country']]\n",
    "\n",
    "df['topic_category']= np.where(df['topic_category'].isnull(), df['topic_category_1'], df['topic_category'])\n",
    "\n",
    "\n",
    "# Performed same steps to identify missing 'Country' values from top occurences of the 'countries' by 'region' column.\n",
    "# This tricky as region definations can be different for different organizations.\n",
    "# Some regions can go across countries or regions can be defined within single country as well\n",
    "# For this notebook, I have considered regions go across to countries\n",
    "\n",
    "df_country = df[['region', 'country']]\n",
    "\n",
    "con = df_country.groupby(['region', 'country']).size()\n",
    "df_con = con.loc[con.groupby(level=0).idxmax()].reset_index().drop(0,axis=1)\n",
    "\n",
    "\n",
    "df_con.columns = ['region', 'country_1']\n",
    "\n",
    "left_join_3 = pd.merge(df, df_con, on = 'region', how ='left')\n",
    "\n",
    "df = left_join_3[['asst_id', 'product_type', 'mnfture_wk', 'contract_st', 'contract_end',\n",
    "       'contact_wk', 'contact_type', 'issue_type', 'issue_type_1', 'topic_category', 'topic_category_1',\n",
    "       'parts_sent', 'repair_type', 'repeat_ct', 'parts_ct',\n",
    "       'agent_tenure_indays', 'contact_manager_flg', 'diagnostics',\n",
    "       'repeat_parts_sent', 'region', 'country', 'country_1']]\n",
    "\n",
    "df['country']= np.where(df['country'].isnull(), df['country_1'], df['country'])"
   ]
  },
  {
   "cell_type": "code",
   "execution_count": 14,
   "metadata": {
    "colab": {
     "base_uri": "https://localhost:8080/",
     "height": 381
    },
    "executionInfo": {
     "elapsed": 3169,
     "status": "ok",
     "timestamp": 1626740860069,
     "user": {
      "displayName": "Pranav Mandolkar",
      "photoUrl": "https://lh3.googleusercontent.com/a-/AOh14GhkkcVpx7Q7nguHF5VhYApRc8cX52Sj5GpAVeixpwI=s64",
      "userId": "11053925234622878391"
     },
     "user_tz": 300
    },
    "id": "Jawr6NBXPepU",
    "outputId": "af7ddcdb-360b-4e8a-de61-0a6cc44ccf9f"
   },
   "outputs": [
    {
     "data": {
      "text/plain": [
       "<matplotlib.axes._subplots.AxesSubplot at 0x7f256d484e90>"
      ]
     },
     "execution_count": 14,
     "metadata": {
      "tags": []
     },
     "output_type": "execute_result"
    },
    {
     "data": {
      "image/png": "[encoded data removed]",
      "text/plain": [
       "<Figure size 432x288 with 2 Axes>"
      ]
     },
     "metadata": {
      "needs_background": "light",
      "tags": []
     },
     "output_type": "display_data"
    }
   ],
   "source": [
    "cols = df.columns[:22]\n",
    "colors = ['#000099','#FF0000'] # Yellow for missung data and Red is not missing\n",
    "\n",
    "sns.heatmap(df[cols].isnull(), cmap=sns.color_palette(colors))"
   ]
  },
  {
   "cell_type": "code",
   "execution_count": null,
   "metadata": {
    "id": "C9y8PbcYFPpc"
   },
   "outputs": [],
   "source": [
    "#not required\n",
    "\n",
    "# left_join.to_csv('/content/drive/MyDrive/Datasets/left_data.csv', index = False)"
   ]
  },
  {
   "cell_type": "code",
   "execution_count": 15,
   "metadata": {
    "executionInfo": {
     "elapsed": 79,
     "status": "ok",
     "timestamp": 1626740912173,
     "user": {
      "displayName": "Pranav Mandolkar",
      "photoUrl": "https://lh3.googleusercontent.com/a-/AOh14GhkkcVpx7Q7nguHF5VhYApRc8cX52Sj5GpAVeixpwI=s64",
      "userId": "11053925234622878391"
     },
     "user_tz": 300
    },
    "id": "qVmbYzPQyuNy"
   },
   "outputs": [],
   "source": [
    "df = df.drop(['issue_type_1','topic_category_1','country_1'], axis=1)"
   ]
  },
  {
   "cell_type": "markdown",
   "metadata": {
    "id": "EkhEXxMG0vw3"
   },
   "source": [
    "Need to drop rows with missing values"
   ]
  },
  {
   "cell_type": "code",
   "execution_count": 16,
   "metadata": {
    "executionInfo": {
     "elapsed": 148,
     "status": "ok",
     "timestamp": 1626740924823,
     "user": {
      "displayName": "Pranav Mandolkar",
      "photoUrl": "https://lh3.googleusercontent.com/a-/AOh14GhkkcVpx7Q7nguHF5VhYApRc8cX52Sj5GpAVeixpwI=s64",
      "userId": "11053925234622878391"
     },
     "user_tz": 300
    },
    "id": "x3-Zc0Oy0PIg"
   },
   "outputs": [],
   "source": [
    "# Droping rows with missing issue_type and topic category\n",
    "\n",
    "df = df.dropna()\n",
    "#df = df.drop_duplicates()\n"
   ]
  },
  {
   "cell_type": "code",
   "execution_count": 17,
   "metadata": {
    "colab": {
     "base_uri": "https://localhost:8080/"
    },
    "executionInfo": {
     "elapsed": 89,
     "status": "ok",
     "timestamp": 1626740930099,
     "user": {
      "displayName": "Pranav Mandolkar",
      "photoUrl": "https://lh3.googleusercontent.com/a-/AOh14GhkkcVpx7Q7nguHF5VhYApRc8cX52Sj5GpAVeixpwI=s64",
      "userId": "11053925234622878391"
     },
     "user_tz": 300
    },
    "id": "lv5ajWzKzSN0",
    "outputId": "5113cff6-2839-42e5-d64d-33c714736dac"
   },
   "outputs": [
    {
     "name": "stdout",
     "output_type": "stream",
     "text": [
      "asst_id - 0%\n",
      "product_type - 0%\n",
      "mnfture_wk - 0%\n",
      "contract_st - 0%\n",
      "contract_end - 0%\n",
      "contact_wk - 0%\n",
      "contact_type - 0%\n",
      "issue_type - 0%\n",
      "topic_category - 0%\n",
      "parts_sent - 0%\n",
      "repair_type - 0%\n",
      "repeat_ct - 0%\n",
      "parts_ct - 0%\n",
      "agent_tenure_indays - 0%\n",
      "contact_manager_flg - 0%\n",
      "diagnostics - 0%\n",
      "repeat_parts_sent - 0%\n",
      "region - 0%\n",
      "country - 0%\n"
     ]
    }
   ],
   "source": [
    "for col in df.columns:\n",
    "  pct_missing = np.mean(df[col].isnull())\n",
    "  print('{} - {}%'.format(col, round(pct_missing*100)))"
   ]
  },
  {
   "cell_type": "code",
   "execution_count": null,
   "metadata": {
    "colab": {
     "base_uri": "https://localhost:8080/",
     "height": 711
    },
    "executionInfo": {
     "elapsed": 7,
     "status": "ok",
     "timestamp": 1626664112913,
     "user": {
      "displayName": "Pranav Mandolkar",
      "photoUrl": "https://lh3.googleusercontent.com/a-/AOh14GhkkcVpx7Q7nguHF5VhYApRc8cX52Sj5GpAVeixpwI=s64",
      "userId": "11053925234622878391"
     },
     "user_tz": 300
    },
    "id": "jFRmrwbd0-hX",
    "outputId": "c39d06cf-d590-4027-9e52-753f3cd5e060"
   },
   "outputs": [
    {
     "data": {
      "text/html": [
       "<div>\n",
       "<style scoped>\n",
       "    .dataframe tbody tr th:only-of-type {\n",
       "        vertical-align: middle;\n",
       "    }\n",
       "\n",
       "    .dataframe tbody tr th {\n",
       "        vertical-align: top;\n",
       "    }\n",
       "\n",
       "    .dataframe thead th {\n",
       "        text-align: right;\n",
       "    }\n",
       "</style>\n",
       "<table border=\"1\" class=\"dataframe\">\n",
       "  <thead>\n",
       "    <tr style=\"text-align: right;\">\n",
       "      <th></th>\n",
       "      <th>asst_id</th>\n",
       "      <th>product_type</th>\n",
       "      <th>mnfture_wk</th>\n",
       "      <th>contract_st</th>\n",
       "      <th>contract_end</th>\n",
       "      <th>contact_wk</th>\n",
       "      <th>contact_type</th>\n",
       "      <th>issue_type_1</th>\n",
       "      <th>topic_category_1</th>\n",
       "      <th>parts_sent</th>\n",
       "      <th>repair_type</th>\n",
       "      <th>repeat_ct</th>\n",
       "      <th>parts_ct</th>\n",
       "      <th>agent_tenure_indays</th>\n",
       "      <th>contact_manager_flg</th>\n",
       "      <th>diagnostics</th>\n",
       "      <th>repeat_parts_sent</th>\n",
       "      <th>region</th>\n",
       "      <th>country_1</th>\n",
       "    </tr>\n",
       "  </thead>\n",
       "  <tbody>\n",
       "    <tr>\n",
       "      <th>0</th>\n",
       "      <td>0</td>\n",
       "      <td>Laptops</td>\n",
       "      <td>201726</td>\n",
       "      <td>201726</td>\n",
       "      <td>202125</td>\n",
       "      <td>201840</td>\n",
       "      <td>Voice</td>\n",
       "      <td>Hard Drive</td>\n",
       "      <td>Hard Drive</td>\n",
       "      <td>Hard Drive, Documentation(2)</td>\n",
       "      <td>Hard</td>\n",
       "      <td>0</td>\n",
       "      <td>3</td>\n",
       "      <td>1018.0</td>\n",
       "      <td>0</td>\n",
       "      <td>Not_USED</td>\n",
       "      <td>NOT_USED</td>\n",
       "      <td>Hogwarts</td>\n",
       "      <td>Zonko's Joke Shop</td>\n",
       "    </tr>\n",
       "    <tr>\n",
       "      <th>1</th>\n",
       "      <td>1</td>\n",
       "      <td>Laptops</td>\n",
       "      <td>201650</td>\n",
       "      <td>201650</td>\n",
       "      <td>201949</td>\n",
       "      <td>201840</td>\n",
       "      <td>Voice</td>\n",
       "      <td>Audio, Video, Speakers, TV Tuner</td>\n",
       "      <td>Audio Device</td>\n",
       "      <td>Speaker, Chassis</td>\n",
       "      <td>Hard</td>\n",
       "      <td>0</td>\n",
       "      <td>2</td>\n",
       "      <td>1018.0</td>\n",
       "      <td>0</td>\n",
       "      <td>Not_USED</td>\n",
       "      <td>NOT_USED</td>\n",
       "      <td>Hogwarts</td>\n",
       "      <td>Zonko's Joke Shop</td>\n",
       "    </tr>\n",
       "    <tr>\n",
       "      <th>2</th>\n",
       "      <td>2</td>\n",
       "      <td>Laptops</td>\n",
       "      <td>201821</td>\n",
       "      <td>201821</td>\n",
       "      <td>202222</td>\n",
       "      <td>201840</td>\n",
       "      <td>Voice</td>\n",
       "      <td>Power Subsystem / Cables / AC Adapter</td>\n",
       "      <td>Call Logs</td>\n",
       "      <td>Cables</td>\n",
       "      <td>Hard</td>\n",
       "      <td>0</td>\n",
       "      <td>1</td>\n",
       "      <td>1018.0</td>\n",
       "      <td>0</td>\n",
       "      <td>Not_USED</td>\n",
       "      <td>Motherboard, Miscellaneous(2), Hard Drive, Cha...</td>\n",
       "      <td>Hogwarts</td>\n",
       "      <td>Zonko's Joke Shop</td>\n",
       "    </tr>\n",
       "    <tr>\n",
       "      <th>3</th>\n",
       "      <td>3</td>\n",
       "      <td>Laptops</td>\n",
       "      <td>201608</td>\n",
       "      <td>201608</td>\n",
       "      <td>201908</td>\n",
       "      <td>201840</td>\n",
       "      <td>VOICE</td>\n",
       "      <td>Hard Drive</td>\n",
       "      <td>Hard Drive</td>\n",
       "      <td>Hard Drive</td>\n",
       "      <td>Hard</td>\n",
       "      <td>0</td>\n",
       "      <td>1</td>\n",
       "      <td>298.0</td>\n",
       "      <td>0</td>\n",
       "      <td>Effective_Usage</td>\n",
       "      <td>NOT_USED</td>\n",
       "      <td>Hogwarts</td>\n",
       "      <td>Zonko's Joke Shop</td>\n",
       "    </tr>\n",
       "    <tr>\n",
       "      <th>4</th>\n",
       "      <td>4</td>\n",
       "      <td>Laptops</td>\n",
       "      <td>201732</td>\n",
       "      <td>201732</td>\n",
       "      <td>202032</td>\n",
       "      <td>201840</td>\n",
       "      <td>Voice</td>\n",
       "      <td>Battery / CMOS</td>\n",
       "      <td>Battery</td>\n",
       "      <td>Battery (Notebook)</td>\n",
       "      <td>Hard</td>\n",
       "      <td>0</td>\n",
       "      <td>1</td>\n",
       "      <td>1018.0</td>\n",
       "      <td>0</td>\n",
       "      <td>Not_USED</td>\n",
       "      <td>NOT_USED</td>\n",
       "      <td>Hogwarts</td>\n",
       "      <td>Zonko's Joke Shop</td>\n",
       "    </tr>\n",
       "    <tr>\n",
       "      <th>...</th>\n",
       "      <td>...</td>\n",
       "      <td>...</td>\n",
       "      <td>...</td>\n",
       "      <td>...</td>\n",
       "      <td>...</td>\n",
       "      <td>...</td>\n",
       "      <td>...</td>\n",
       "      <td>...</td>\n",
       "      <td>...</td>\n",
       "      <td>...</td>\n",
       "      <td>...</td>\n",
       "      <td>...</td>\n",
       "      <td>...</td>\n",
       "      <td>...</td>\n",
       "      <td>...</td>\n",
       "      <td>...</td>\n",
       "      <td>...</td>\n",
       "      <td>...</td>\n",
       "      <td>...</td>\n",
       "    </tr>\n",
       "    <tr>\n",
       "      <th>99995</th>\n",
       "      <td>16660</td>\n",
       "      <td>Laptops</td>\n",
       "      <td>201630</td>\n",
       "      <td>201630</td>\n",
       "      <td>201930</td>\n",
       "      <td>201840</td>\n",
       "      <td>VOICE</td>\n",
       "      <td>Information Request</td>\n",
       "      <td>Booting</td>\n",
       "      <td>NOT_USED</td>\n",
       "      <td>Soft</td>\n",
       "      <td>0</td>\n",
       "      <td>0</td>\n",
       "      <td>1978.0</td>\n",
       "      <td>0</td>\n",
       "      <td>Not_USED</td>\n",
       "      <td>NOT_USED</td>\n",
       "      <td>Hogwarts</td>\n",
       "      <td>Zonko's Joke Shop</td>\n",
       "    </tr>\n",
       "    <tr>\n",
       "      <th>99996</th>\n",
       "      <td>16661</td>\n",
       "      <td>Laptops</td>\n",
       "      <td>201718</td>\n",
       "      <td>201718</td>\n",
       "      <td>202122</td>\n",
       "      <td>201840</td>\n",
       "      <td>Voice</td>\n",
       "      <td>Audio, Video, Speakers, TV Tuner</td>\n",
       "      <td>Physical Damage</td>\n",
       "      <td>LCD Panel, Chassis(2)</td>\n",
       "      <td>Hard</td>\n",
       "      <td>0</td>\n",
       "      <td>3</td>\n",
       "      <td>1018.0</td>\n",
       "      <td>0</td>\n",
       "      <td>Not_USED</td>\n",
       "      <td>Chassis</td>\n",
       "      <td>Hogwarts</td>\n",
       "      <td>Zonko's Joke Shop</td>\n",
       "    </tr>\n",
       "    <tr>\n",
       "      <th>99997</th>\n",
       "      <td>16662</td>\n",
       "      <td>Desktops</td>\n",
       "      <td>201607</td>\n",
       "      <td>201607</td>\n",
       "      <td>202107</td>\n",
       "      <td>201840</td>\n",
       "      <td>VOICE</td>\n",
       "      <td>Information Request</td>\n",
       "      <td>Booting</td>\n",
       "      <td>NOT_USED</td>\n",
       "      <td>Soft</td>\n",
       "      <td>0</td>\n",
       "      <td>0</td>\n",
       "      <td>305.0</td>\n",
       "      <td>0</td>\n",
       "      <td>Not_USED</td>\n",
       "      <td>NOT_USED</td>\n",
       "      <td>Milky Way</td>\n",
       "      <td>Merope</td>\n",
       "    </tr>\n",
       "    <tr>\n",
       "      <th>99998</th>\n",
       "      <td>16663</td>\n",
       "      <td>Laptops</td>\n",
       "      <td>201552</td>\n",
       "      <td>201552</td>\n",
       "      <td>202352</td>\n",
       "      <td>201840</td>\n",
       "      <td>CHAT</td>\n",
       "      <td>Audio, Video, Speakers, TV Tuner</td>\n",
       "      <td>LCD/Monitor</td>\n",
       "      <td>LCD Panel, Cables</td>\n",
       "      <td>Hard</td>\n",
       "      <td>0</td>\n",
       "      <td>2</td>\n",
       "      <td>323.0</td>\n",
       "      <td>0</td>\n",
       "      <td>InEffective_Usage</td>\n",
       "      <td>NOT_USED</td>\n",
       "      <td>Hogwarts</td>\n",
       "      <td>Zonko's Joke Shop</td>\n",
       "    </tr>\n",
       "    <tr>\n",
       "      <th>99999</th>\n",
       "      <td>16664</td>\n",
       "      <td>Desktops</td>\n",
       "      <td>201719</td>\n",
       "      <td>201719</td>\n",
       "      <td>202018</td>\n",
       "      <td>201840</td>\n",
       "      <td>Voice</td>\n",
       "      <td>Audio, Video, Speakers, TV Tuner</td>\n",
       "      <td>LCD/Monitor</td>\n",
       "      <td>Motherboard, LCD Panel</td>\n",
       "      <td>Hard</td>\n",
       "      <td>1</td>\n",
       "      <td>2</td>\n",
       "      <td>1018.0</td>\n",
       "      <td>0</td>\n",
       "      <td>Not_USED</td>\n",
       "      <td>Motherboard, Documentation</td>\n",
       "      <td>Hogwarts</td>\n",
       "      <td>Zonko's Joke Shop</td>\n",
       "    </tr>\n",
       "  </tbody>\n",
       "</table>\n",
       "<p>98817 rows × 19 columns</p>\n",
       "</div>"
      ],
      "text/plain": [
       "       asst_id product_type  ...     region          country_1\n",
       "0            0      Laptops  ...   Hogwarts  Zonko's Joke Shop\n",
       "1            1      Laptops  ...   Hogwarts  Zonko's Joke Shop\n",
       "2            2      Laptops  ...   Hogwarts  Zonko's Joke Shop\n",
       "3            3      Laptops  ...   Hogwarts  Zonko's Joke Shop\n",
       "4            4      Laptops  ...   Hogwarts  Zonko's Joke Shop\n",
       "...        ...          ...  ...        ...                ...\n",
       "99995    16660      Laptops  ...   Hogwarts  Zonko's Joke Shop\n",
       "99996    16661      Laptops  ...   Hogwarts  Zonko's Joke Shop\n",
       "99997    16662     Desktops  ...  Milky Way             Merope\n",
       "99998    16663      Laptops  ...   Hogwarts  Zonko's Joke Shop\n",
       "99999    16664     Desktops  ...   Hogwarts  Zonko's Joke Shop\n",
       "\n",
       "[98817 rows x 19 columns]"
      ]
     },
     "execution_count": 22,
     "metadata": {
      "tags": []
     },
     "output_type": "execute_result"
    }
   ],
   "source": [
    "df"
   ]
  },
  {
   "cell_type": "markdown",
   "metadata": {
    "id": "3enfwVQcXgUm"
   },
   "source": [
    "# **2. Feature Engineering**\n",
    "\n",
    "\n",
    "\n",
    "*   As we have cleaned the data, I added few more calculated columns to perform better data analysis\n",
    "\n",
    "\n",
    "\n",
    "1.   Finding duration of the repair calls from its initial contract start\n",
    "\n",
    "\n",
    "> I took contract start for calcualting receiving call duration instead of manufacturing date as product can be difference in time from manufactured product and user starting actual use\n",
    "\n",
    "\n",
    "> Given date columns are in integer format and in weeks. Hence to find number for days bewteen \"contact_wk\" and \"contract_st\" date, I had to separte Year and Week to it's own columns\n",
    "\n",
    "\n",
    "\n",
    "\n",
    "\n",
    "\n",
    "\n",
    "\n"
   ]
  },
  {
   "cell_type": "code",
   "execution_count": 19,
   "metadata": {
    "executionInfo": {
     "elapsed": 988,
     "status": "ok",
     "timestamp": 1626742812416,
     "user": {
      "displayName": "Pranav Mandolkar",
      "photoUrl": "https://lh3.googleusercontent.com/a-/AOh14GhkkcVpx7Q7nguHF5VhYApRc8cX52Sj5GpAVeixpwI=s64",
      "userId": "11053925234622878391"
     },
     "user_tz": 300
    },
    "id": "dB6eEzejWWrl"
   },
   "outputs": [],
   "source": [
    "df['mnfture_wk_year'] = df[\"mnfture_wk\"].astype(str).str[:4].astype('int64')\n",
    "df['mnfture_wk_week'] = df[\"mnfture_wk\"].astype(str).str[4:6].astype('int64')\n",
    "df['contract_st_year'] = df[\"contract_st\"].astype(str).str[:4].astype('int64')\n",
    "df['contract_st_week'] = df[\"contract_st\"].astype(str).str[4:6].astype('int64')\n",
    "df['contract_end_year'] = df[\"contract_end\"].astype(str).str[:4].astype('int64')\n",
    "df['contract_end_week'] = df[\"contract_end\"].astype(str).str[4:6].astype('int64')\n",
    "df['contact_wk_year'] = df[\"contact_wk\"].astype(str).str[:4].astype('int64')\n",
    "df['contact_wk_week'] = df[\"contact_wk\"].astype(str).str[4:6].astype('int64')"
   ]
  },
  {
   "cell_type": "markdown",
   "metadata": {
    "id": "D7WHyBS7W79a"
   },
   "source": [
    "*   After generating columns for week and year, I converted them into a integer number which later can be converted into Date datatype column\n",
    "\n",
    "\n"
   ]
  },
  {
   "cell_type": "code",
   "execution_count": 20,
   "metadata": {
    "executionInfo": {
     "elapsed": 105,
     "status": "ok",
     "timestamp": 1626742814203,
     "user": {
      "displayName": "Pranav Mandolkar",
      "photoUrl": "https://lh3.googleusercontent.com/a-/AOh14GhkkcVpx7Q7nguHF5VhYApRc8cX52Sj5GpAVeixpwI=s64",
      "userId": "11053925234622878391"
     },
     "user_tz": 300
    },
    "id": "vwmW9u35Xe9Z"
   },
   "outputs": [],
   "source": [
    "df['mnfture_wk_formatted_date'] = df.mnfture_wk_year * 1000 + df.mnfture_wk_week *10 + 0\n",
    "df['contract_st_formatted_date'] = df.contract_st_year * 1000 + df.contract_st_week *10 + 0\n",
    "df['contract_end_formatted_date'] = df.contract_end_year * 1000 + df.contract_end_week *10 + 0\n",
    "df['contact_wk_formatted_date'] = df.contact_wk_year * 1000 + df.contact_wk_week *10 + 0"
   ]
  },
  {
   "cell_type": "markdown",
   "metadata": {
    "id": "862i8nxEXZab"
   },
   "source": [
    "\n",
    "*   Converted all the date formatted columns to date dataype columns\n",
    "*   Dropped extra columns and rearranged the columns as per original dataset\n",
    "\n",
    "\n",
    "\n"
   ]
  },
  {
   "cell_type": "code",
   "execution_count": 21,
   "metadata": {
    "executionInfo": {
     "elapsed": 83,
     "status": "ok",
     "timestamp": 1626742816349,
     "user": {
      "displayName": "Pranav Mandolkar",
      "photoUrl": "https://lh3.googleusercontent.com/a-/AOh14GhkkcVpx7Q7nguHF5VhYApRc8cX52Sj5GpAVeixpwI=s64",
      "userId": "11053925234622878391"
     },
     "user_tz": 300
    },
    "id": "isSyY-TocLNG"
   },
   "outputs": [],
   "source": [
    "df['mnfture_wk_date'] = pd.to_datetime(df['mnfture_wk_formatted_date'], format='%Y%W%w')\n",
    "df['contract_st_date'] = pd.to_datetime(df['contract_st_formatted_date'], format='%Y%W%w')\n",
    "df['contract_end_date'] = pd.to_datetime(df['contract_end_formatted_date'], format='%Y%W%w')\n",
    "df['contact_wk_date'] = pd.to_datetime(df['contact_wk_formatted_date'], format='%Y%W%w')"
   ]
  },
  {
   "cell_type": "code",
   "execution_count": 22,
   "metadata": {
    "colab": {
     "base_uri": "https://localhost:8080/"
    },
    "executionInfo": {
     "elapsed": 98,
     "status": "ok",
     "timestamp": 1626742818522,
     "user": {
      "displayName": "Pranav Mandolkar",
      "photoUrl": "https://lh3.googleusercontent.com/a-/AOh14GhkkcVpx7Q7nguHF5VhYApRc8cX52Sj5GpAVeixpwI=s64",
      "userId": "11053925234622878391"
     },
     "user_tz": 300
    },
    "id": "57UZ46Cob9X1",
    "outputId": "c1029254-f34d-406a-bc9f-9b8400c57f5e"
   },
   "outputs": [
    {
     "data": {
      "text/plain": [
       "Index(['asst_id', 'product_type', 'mnfture_wk', 'contract_st', 'contract_end',\n",
       "       'contact_wk', 'contact_type', 'issue_type', 'topic_category',\n",
       "       'parts_sent', 'repair_type', 'repeat_ct', 'parts_ct',\n",
       "       'agent_tenure_indays', 'contact_manager_flg', 'diagnostics',\n",
       "       'repeat_parts_sent', 'region', 'country', 'mnfture_wk_year',\n",
       "       'mnfture_wk_week', 'contract_st_year', 'contract_st_week',\n",
       "       'contract_end_year', 'contract_end_week', 'contact_wk_year',\n",
       "       'contact_wk_week', 'mnfture_wk_formatted_date',\n",
       "       'contract_st_formatted_date', 'contract_end_formatted_date',\n",
       "       'contact_wk_formatted_date', 'mnfture_wk_date', 'contract_st_date',\n",
       "       'contract_end_date', 'contact_wk_date'],\n",
       "      dtype='object')"
      ]
     },
     "execution_count": 22,
     "metadata": {
      "tags": []
     },
     "output_type": "execute_result"
    }
   ],
   "source": [
    "df.columns"
   ]
  },
  {
   "cell_type": "code",
   "execution_count": 23,
   "metadata": {
    "executionInfo": {
     "elapsed": 109,
     "status": "ok",
     "timestamp": 1626742819835,
     "user": {
      "displayName": "Pranav Mandolkar",
      "photoUrl": "https://lh3.googleusercontent.com/a-/AOh14GhkkcVpx7Q7nguHF5VhYApRc8cX52Sj5GpAVeixpwI=s64",
      "userId": "11053925234622878391"
     },
     "user_tz": 300
    },
    "id": "F0EpNJ3SjYql"
   },
   "outputs": [],
   "source": [
    "df = df.drop(['mnfture_wk_year','mnfture_wk', 'contract_st', 'contract_end',\n",
    "       'contact_wk',\n",
    "       'mnfture_wk_week', 'contract_st_year', 'contract_st_week',\n",
    "       'contract_end_year', 'contract_end_week', 'contact_wk_year',\n",
    "       'contact_wk_week', 'mnfture_wk_formatted_date',\n",
    "       'contract_st_formatted_date', 'contract_end_formatted_date',\n",
    "       'contact_wk_formatted_date'], axis=1)"
   ]
  },
  {
   "cell_type": "code",
   "execution_count": 24,
   "metadata": {
    "executionInfo": {
     "elapsed": 103,
     "status": "ok",
     "timestamp": 1626742821634,
     "user": {
      "displayName": "Pranav Mandolkar",
      "photoUrl": "https://lh3.googleusercontent.com/a-/AOh14GhkkcVpx7Q7nguHF5VhYApRc8cX52Sj5GpAVeixpwI=s64",
      "userId": "11053925234622878391"
     },
     "user_tz": 300
    },
    "id": "_ASYkaYmjvsh"
   },
   "outputs": [],
   "source": [
    "df = df[['asst_id', 'product_type','mnfture_wk_date', 'contract_st_date',\n",
    "       'contract_end_date', 'contact_wk_date', 'contact_type', 'issue_type', 'topic_category',\n",
    "       'parts_sent', 'repair_type', 'repeat_ct', 'parts_ct',\n",
    "       'agent_tenure_indays', 'contact_manager_flg', 'diagnostics',\n",
    "       'repeat_parts_sent', 'region', 'country']]"
   ]
  },
  {
   "cell_type": "code",
   "execution_count": null,
   "metadata": {
    "colab": {
     "base_uri": "https://localhost:8080/"
    },
    "executionInfo": {
     "elapsed": 96,
     "status": "ok",
     "timestamp": 1626674116556,
     "user": {
      "displayName": "Pranav Mandolkar",
      "photoUrl": "https://lh3.googleusercontent.com/a-/AOh14GhkkcVpx7Q7nguHF5VhYApRc8cX52Sj5GpAVeixpwI=s64",
      "userId": "11053925234622878391"
     },
     "user_tz": 300
    },
    "id": "Sb1yxOH0lyRq",
    "outputId": "ea2a99e5-61e5-4ec8-d9ba-50c10a79edcc"
   },
   "outputs": [
    {
     "name": "stdout",
     "output_type": "stream",
     "text": [
      "<class 'pandas.core.frame.DataFrame'>\n",
      "Int64Index: 82342 entries, 0 to 99950\n",
      "Data columns (total 19 columns):\n",
      " #   Column               Non-Null Count  Dtype         \n",
      "---  ------               --------------  -----         \n",
      " 0   asst_id              82342 non-null  int64         \n",
      " 1   product_type         82342 non-null  object        \n",
      " 2   mnfture_wk_date      82342 non-null  datetime64[ns]\n",
      " 3   contract_st_date     82342 non-null  datetime64[ns]\n",
      " 4   contract_end_date    82342 non-null  datetime64[ns]\n",
      " 5   contact_wk_date      82342 non-null  datetime64[ns]\n",
      " 6   contact_type         82342 non-null  object        \n",
      " 7   issue_type           82342 non-null  object        \n",
      " 8   topic_category       82342 non-null  object        \n",
      " 9   parts_sent           82342 non-null  object        \n",
      " 10  repair_type          82342 non-null  object        \n",
      " 11  repeat_ct            82342 non-null  int64         \n",
      " 12  parts_ct             82342 non-null  int64         \n",
      " 13  agent_tenure_indays  82342 non-null  float64       \n",
      " 14  contact_manager_flg  82342 non-null  int64         \n",
      " 15  diagnostics          82342 non-null  object        \n",
      " 16  repeat_parts_sent    82342 non-null  object        \n",
      " 17  region               82342 non-null  object        \n",
      " 18  country              82342 non-null  object        \n",
      "dtypes: datetime64[ns](4), float64(1), int64(4), object(10)\n",
      "memory usage: 12.6+ MB\n"
     ]
    }
   ],
   "source": [
    "df.info()"
   ]
  },
  {
   "cell_type": "markdown",
   "metadata": {
    "id": "SLS4BZ7lYBTx"
   },
   "source": [
    "\n",
    "\n",
    "*   In this step, I calculated difference of days between contact_wk and contract_start date and stored in column 'contact_days'\n",
    "\n",
    "\n"
   ]
  },
  {
   "cell_type": "code",
   "execution_count": 25,
   "metadata": {
    "executionInfo": {
     "elapsed": 88,
     "status": "ok",
     "timestamp": 1626742824705,
     "user": {
      "displayName": "Pranav Mandolkar",
      "photoUrl": "https://lh3.googleusercontent.com/a-/AOh14GhkkcVpx7Q7nguHF5VhYApRc8cX52Sj5GpAVeixpwI=s64",
      "userId": "11053925234622878391"
     },
     "user_tz": 300
    },
    "id": "amlr5Gmgnhwf"
   },
   "outputs": [],
   "source": [
    "df['contact_days'] = (df['contact_wk_date'] - df['contract_st_date']).dt.days"
   ]
  },
  {
   "cell_type": "markdown",
   "metadata": {
    "id": "VmXcFbN4zIok"
   },
   "source": [
    "\n",
    "\n",
    "*   However, After calculating contact days. I found that this column has negative values. Which means contact date is older than the contract start date. This might be the case of wrong data.\n",
    "*   This cannot be used in our data analysis.\n",
    "Hence, Deleting the rows where date are wrong.\n",
    "\n"
   ]
  },
  {
   "cell_type": "code",
   "execution_count": 26,
   "metadata": {
    "executionInfo": {
     "elapsed": 87,
     "status": "ok",
     "timestamp": 1626742829793,
     "user": {
      "displayName": "Pranav Mandolkar",
      "photoUrl": "https://lh3.googleusercontent.com/a-/AOh14GhkkcVpx7Q7nguHF5VhYApRc8cX52Sj5GpAVeixpwI=s64",
      "userId": "11053925234622878391"
     },
     "user_tz": 300
    },
    "id": "lJKGaxmT0DTS"
   },
   "outputs": [],
   "source": [
    "df = df[df.select_dtypes(include=[np.number]).ge(0).all(1)] #removing rows where 'contact_days' are in negative\n",
    "df = df.reset_index()"
   ]
  },
  {
   "cell_type": "code",
   "execution_count": 27,
   "metadata": {
    "colab": {
     "base_uri": "https://localhost:8080/"
    },
    "executionInfo": {
     "elapsed": 209,
     "status": "ok",
     "timestamp": 1626742831527,
     "user": {
      "displayName": "Pranav Mandolkar",
      "photoUrl": "https://lh3.googleusercontent.com/a-/AOh14GhkkcVpx7Q7nguHF5VhYApRc8cX52Sj5GpAVeixpwI=s64",
      "userId": "11053925234622878391"
     },
     "user_tz": 300
    },
    "id": "GRmAUpD0qlkI",
    "outputId": "a91cc242-da5d-4a3f-f638-9bcea4df3383"
   },
   "outputs": [
    {
     "name": "stdout",
     "output_type": "stream",
     "text": [
      "<class 'pandas.core.frame.DataFrame'>\n",
      "RangeIndex: 84753 entries, 0 to 84752\n",
      "Data columns (total 21 columns):\n",
      " #   Column               Non-Null Count  Dtype         \n",
      "---  ------               --------------  -----         \n",
      " 0   index                84753 non-null  int64         \n",
      " 1   asst_id              84753 non-null  int64         \n",
      " 2   product_type         84753 non-null  object        \n",
      " 3   mnfture_wk_date      84753 non-null  datetime64[ns]\n",
      " 4   contract_st_date     84753 non-null  datetime64[ns]\n",
      " 5   contract_end_date    84753 non-null  datetime64[ns]\n",
      " 6   contact_wk_date      84753 non-null  datetime64[ns]\n",
      " 7   contact_type         84753 non-null  object        \n",
      " 8   issue_type           84753 non-null  object        \n",
      " 9   topic_category       84753 non-null  object        \n",
      " 10  parts_sent           84753 non-null  object        \n",
      " 11  repair_type          84753 non-null  object        \n",
      " 12  repeat_ct            84753 non-null  int64         \n",
      " 13  parts_ct             84753 non-null  int64         \n",
      " 14  agent_tenure_indays  84753 non-null  float64       \n",
      " 15  contact_manager_flg  84753 non-null  int64         \n",
      " 16  diagnostics          84753 non-null  object        \n",
      " 17  repeat_parts_sent    84753 non-null  object        \n",
      " 18  region               84753 non-null  object        \n",
      " 19  country              84753 non-null  object        \n",
      " 20  contact_days         84753 non-null  int64         \n",
      "dtypes: datetime64[ns](4), float64(1), int64(6), object(10)\n",
      "memory usage: 13.6+ MB\n"
     ]
    }
   ],
   "source": [
    "df.info()"
   ]
  },
  {
   "cell_type": "markdown",
   "metadata": {
    "id": "igafQNxlY4LN"
   },
   "source": [
    "# **3. Data Analysis**\n",
    "\n",
    "Assumption - As data set has almost 85k records(After data cleaning), I took entire dataset for the initial/basic analysis instead of taking samples and finding insights.\n",
    "But for predictions and running algorithms we would sample from this popualtion.\n",
    "\n",
    "1. First we will find the most frequent product for issues and way used by user to contact Dell service center."
   ]
  },
  {
   "cell_type": "code",
   "execution_count": 28,
   "metadata": {
    "executionInfo": {
     "elapsed": 93,
     "status": "ok",
     "timestamp": 1626742853831,
     "user": {
      "displayName": "Pranav Mandolkar",
      "photoUrl": "https://lh3.googleusercontent.com/a-/AOh14GhkkcVpx7Q7nguHF5VhYApRc8cX52Sj5GpAVeixpwI=s64",
      "userId": "11053925234622878391"
     },
     "user_tz": 300
    },
    "id": "hbnJVP0fKGy9"
   },
   "outputs": [],
   "source": [
    "#replcaing 'Voice' to 'VOICE'\n",
    "df['contact_type'] = df['contact_type'].replace(\n",
    "    {'Voice' : 'VOICE'}\n",
    ")"
   ]
  },
  {
   "cell_type": "code",
   "execution_count": 29,
   "metadata": {
    "colab": {
     "base_uri": "https://localhost:8080/"
    },
    "executionInfo": {
     "elapsed": 86,
     "status": "ok",
     "timestamp": 1626742854776,
     "user": {
      "displayName": "Pranav Mandolkar",
      "photoUrl": "https://lh3.googleusercontent.com/a-/AOh14GhkkcVpx7Q7nguHF5VhYApRc8cX52Sj5GpAVeixpwI=s64",
      "userId": "11053925234622878391"
     },
     "user_tz": 300
    },
    "id": "aa_lXUFjLifH",
    "outputId": "56bbda64-ebaf-480a-b90f-2118258df3db"
   },
   "outputs": [
    {
     "data": {
      "text/plain": [
       "array(['VOICE', 'CHAT', 'EMAIL', 'Unknown'], dtype=object)"
      ]
     },
     "execution_count": 29,
     "metadata": {
      "tags": []
     },
     "output_type": "execute_result"
    }
   ],
   "source": [
    "df['contact_type'].unique()"
   ]
  },
  {
   "cell_type": "markdown",
   "metadata": {
    "id": "Z1aenL5YZRGo"
   },
   "source": [
    "\n",
    "\n",
    "*   As can be seen in the graph below, third of the issues are logged for laptops. Which may be the case because laptops are major product sold by Dell also they are considered more fragile when compared to desktops.\n",
    "      - From this, Dell can prepare for more support on the laptops than any other product.\n",
    "*   When we see user contact types, it is evident that the user thinks voice support is most common and trusted way communication. This may be the case becuase users feel more comfort when they are addressed by a representative in person. This ties back to human nature.\n",
    "      - However, customer service is can be expensive when too many in person representatives are needed. And general questions can be answered by AI bot \n",
    "\n"
   ]
  },
  {
   "cell_type": "code",
   "execution_count": 30,
   "metadata": {
    "colab": {
     "base_uri": "https://localhost:8080/",
     "height": 459
    },
    "executionInfo": {
     "elapsed": 470,
     "status": "ok",
     "timestamp": 1626742857268,
     "user": {
      "displayName": "Pranav Mandolkar",
      "photoUrl": "https://lh3.googleusercontent.com/a-/AOh14GhkkcVpx7Q7nguHF5VhYApRc8cX52Sj5GpAVeixpwI=s64",
      "userId": "11053925234622878391"
     },
     "user_tz": 300
    },
    "id": "r6x1RwyL0MN-",
    "outputId": "f2204695-abe5-44ce-d4d8-1734c76ebe05"
   },
   "outputs": [
    {
     "data": {
      "image/png": "[encoded data removed]",
      "text/plain": [
       "<Figure size 1440x720 with 2 Axes>"
      ]
     },
     "metadata": {
      "tags": []
     },
     "output_type": "display_data"
    }
   ],
   "source": [
    "def label_function(val):\n",
    "    return f'{val / 100 * len(df):.0f}\\n{val:.0f}%'\n",
    "\n",
    "fig, (ax1, ax2) = plt.subplots(ncols=2, figsize=(20,10))\n",
    "\n",
    "df.groupby('product_type').size().plot(kind='pie', autopct=label_function, textprops={'fontsize': 20},\n",
    "                                  colors=['tomato', 'gold', 'skyblue'], ax=ax1)\n",
    "\n",
    "df.groupby('contact_type').size().plot(kind='pie', autopct=label_function, textprops={'fontsize': 20},\n",
    "                                  colors=['violet', 'lime', 'blue', 'red',''], ax=ax2)\n",
    "\n",
    "ax1.set_ylabel('By Product type', size=22)\n",
    "ax2.set_ylabel('By Contact Type', size=22)\n",
    "plt.tight_layout()\n",
    "plt.show()"
   ]
  },
  {
   "cell_type": "markdown",
   "metadata": {
    "id": "z5RZcvMAdfUs"
   },
   "source": [
    "Another quick check we can do before starting analysis for specific category is finding overall mean, median and standard deviations of the contact days duration. I also graphed it for referrance.\n"
   ]
  },
  {
   "cell_type": "code",
   "execution_count": 32,
   "metadata": {
    "colab": {
     "base_uri": "https://localhost:8080/"
    },
    "executionInfo": {
     "elapsed": 90,
     "status": "ok",
     "timestamp": 1626743564430,
     "user": {
      "displayName": "Pranav Mandolkar",
      "photoUrl": "https://lh3.googleusercontent.com/a-/AOh14GhkkcVpx7Q7nguHF5VhYApRc8cX52Sj5GpAVeixpwI=s64",
      "userId": "11053925234622878391"
     },
     "user_tz": 300
    },
    "id": "9GJJSxjz4yNF",
    "outputId": "3e79731f-63ef-4e2b-890a-0db536246ce8"
   },
   "outputs": [
    {
     "name": "stdout",
     "output_type": "stream",
     "text": [
      "mean=662.557, meadian=511.000 stdv=577.832\n"
     ]
    }
   ],
   "source": [
    "# Checking overall mean and SD of the contact days\n",
    "print('mean=%.3f, meadian=%.3f stdv=%.3f' % (np.mean(df['contact_days']), np.median(df['contact_days']), np.std(df['contact_days'])))"
   ]
  },
  {
   "cell_type": "code",
   "execution_count": 33,
   "metadata": {
    "colab": {
     "base_uri": "https://localhost:8080/",
     "height": 265
    },
    "executionInfo": {
     "elapsed": 1309,
     "status": "ok",
     "timestamp": 1626743569717,
     "user": {
      "displayName": "Pranav Mandolkar",
      "photoUrl": "https://lh3.googleusercontent.com/a-/AOh14GhkkcVpx7Q7nguHF5VhYApRc8cX52Sj5GpAVeixpwI=s64",
      "userId": "11053925234622878391"
     },
     "user_tz": 300
    },
    "id": "TP9_DLNDvcq8",
    "outputId": "2adff9bd-4e1f-4238-cc25-3e7da12a3479"
   },
   "outputs": [
    {
     "data": {
      "image/png": "[encoded data removed]",
      "text/plain": [
       "<Figure size 432x288 with 1 Axes>"
      ]
     },
     "metadata": {
      "needs_background": "light",
      "tags": []
     },
     "output_type": "display_data"
    }
   ],
   "source": [
    "from matplotlib import pyplot\n",
    "\n",
    "pyplot.hist(df['contact_days'], bins= 500)\n",
    "\n",
    "pyplot.show()"
   ]
  },
  {
   "cell_type": "markdown",
   "metadata": {
    "id": "8QH0C_EKDLn4"
   },
   "source": [
    "For further analysis, we will take product_type = 'Laptops' as each product type will have its own analysis steps. \n",
    "1. Calculate top 3 issue_types occured for Laptops \n",
    "      - 'System Board Components', 'Audio, Video, Speakers, TV Tuner' and 'Fee Based Support'"
   ]
  },
  {
   "cell_type": "code",
   "execution_count": 34,
   "metadata": {
    "colab": {
     "base_uri": "https://localhost:8080/"
    },
    "executionInfo": {
     "elapsed": 144,
     "status": "ok",
     "timestamp": 1626743709535,
     "user": {
      "displayName": "Pranav Mandolkar",
      "photoUrl": "https://lh3.googleusercontent.com/a-/AOh14GhkkcVpx7Q7nguHF5VhYApRc8cX52Sj5GpAVeixpwI=s64",
      "userId": "11053925234622878391"
     },
     "user_tz": 300
    },
    "id": "6cBw9WYOAAvV",
    "outputId": "02fe5f34-2179-4eed-c250-0bc0c0b1566f"
   },
   "outputs": [
    {
     "data": {
      "text/plain": [
       "issue_type\n",
       "System Board Components             10648\n",
       "Audio, Video, Speakers, TV Tuner     7590\n",
       "Fee Based Support                    5690\n",
       "dtype: int64"
      ]
     },
     "execution_count": 34,
     "metadata": {
      "tags": []
     },
     "output_type": "execute_result"
    }
   ],
   "source": [
    "df.loc[df['product_type'] == 'Laptops']\n",
    "\n",
    "laptop_only = df[df['product_type'] == 'Laptops']\n",
    "\n",
    "laptop_only.groupby(['issue_type']).size().sort_values(ascending=False).head(3)"
   ]
  },
  {
   "cell_type": "markdown",
   "metadata": {
    "id": "rRG8xNpfWzch"
   },
   "source": [
    "Maximum number of issues are registered under Booting category which requires mostly hard repairs with Motherboards as part sent frequently"
   ]
  },
  {
   "cell_type": "code",
   "execution_count": 35,
   "metadata": {
    "colab": {
     "base_uri": "https://localhost:8080/"
    },
    "executionInfo": {
     "elapsed": 90,
     "status": "ok",
     "timestamp": 1626743711377,
     "user": {
      "displayName": "Pranav Mandolkar",
      "photoUrl": "https://lh3.googleusercontent.com/a-/AOh14GhkkcVpx7Q7nguHF5VhYApRc8cX52Sj5GpAVeixpwI=s64",
      "userId": "11053925234622878391"
     },
     "user_tz": 300
    },
    "id": "4HEjf5lmH5kH",
    "outputId": "10872146-e049-4e40-9f35-82b5212c5c91"
   },
   "outputs": [
    {
     "data": {
      "text/plain": [
       "issue_type                        topic_category\n",
       "System Board Components           Booting           6521\n",
       "Audio, Video, Speakers, TV Tuner  LCD/Monitor       4514\n",
       "Hard Drive                        Hard Drive        2669\n",
       "Input Device / Webcam             Keyboard          2375\n",
       "Operating System                  Booting           2111\n",
       "dtype: int64"
      ]
     },
     "execution_count": 35,
     "metadata": {
      "tags": []
     },
     "output_type": "execute_result"
    }
   ],
   "source": [
    "c = laptop_only.groupby(['issue_type','topic_category']).size().nlargest(5)\n",
    "\n",
    "c\n",
    "#c.sort_values(ascending=False).head(3)"
   ]
  },
  {
   "cell_type": "markdown",
   "metadata": {
    "id": "14qQp2cHGRri"
   },
   "source": [
    "2. Calculate top 3 issue categories occured for Laptops \n",
    "      - Booting, LCD/Monitor, Call Logs \n",
    "      - This is required as issue_type can vary for same topic_category\n",
    "      - User can think that the issue is related to the harddrive at the start but this can also be caused by faulty motherboard\n",
    "      - This can be evident by looking at booting as topic category as it is used for issue_type as 'system Board Components' and 'Operating system'"
   ]
  },
  {
   "cell_type": "code",
   "execution_count": 36,
   "metadata": {
    "colab": {
     "base_uri": "https://localhost:8080/"
    },
    "executionInfo": {
     "elapsed": 141,
     "status": "ok",
     "timestamp": 1626744122240,
     "user": {
      "displayName": "Pranav Mandolkar",
      "photoUrl": "https://lh3.googleusercontent.com/a-/AOh14GhkkcVpx7Q7nguHF5VhYApRc8cX52Sj5GpAVeixpwI=s64",
      "userId": "11053925234622878391"
     },
     "user_tz": 300
    },
    "id": "AkdKrLKfFA_e",
    "outputId": "19f5e387-acae-4c30-f4c2-5209d006cc80"
   },
   "outputs": [
    {
     "data": {
      "text/plain": [
       "topic_category\n",
       "Booting        19321\n",
       "LCD/Monitor     5972\n",
       "Call Logs       3623\n",
       "dtype: int64"
      ]
     },
     "execution_count": 36,
     "metadata": {
      "tags": []
     },
     "output_type": "execute_result"
    }
   ],
   "source": [
    "laptop_only.groupby(['topic_category']).size().sort_values(ascending=False).head(3)"
   ]
  },
  {
   "cell_type": "markdown",
   "metadata": {
    "id": "Ktopo_ISGVnJ"
   },
   "source": [
    "3. Calculating counts for Hard vs Soft repairs - Even though numbers are almost same, Hard repairs are more frequent"
   ]
  },
  {
   "cell_type": "code",
   "execution_count": 37,
   "metadata": {
    "colab": {
     "base_uri": "https://localhost:8080/"
    },
    "executionInfo": {
     "elapsed": 89,
     "status": "ok",
     "timestamp": 1626744123524,
     "user": {
      "displayName": "Pranav Mandolkar",
      "photoUrl": "https://lh3.googleusercontent.com/a-/AOh14GhkkcVpx7Q7nguHF5VhYApRc8cX52Sj5GpAVeixpwI=s64",
      "userId": "11053925234622878391"
     },
     "user_tz": 300
    },
    "id": "MSOPhySUDwFn",
    "outputId": "ecb7f646-1ac3-4b4f-b3d0-4b1fa3b237a5"
   },
   "outputs": [
    {
     "data": {
      "text/plain": [
       "product_type  repair_type\n",
       "Laptops       Hard           38517\n",
       "              Soft           23232\n",
       "dtype: int64"
      ]
     },
     "execution_count": 37,
     "metadata": {
      "tags": []
     },
     "output_type": "execute_result"
    }
   ],
   "source": [
    "repair_ty_ct = laptop_only.groupby(['product_type','repair_type']).size()\n",
    "\n",
    "repair_ty_ct.sort_values(ascending=False)"
   ]
  },
  {
   "cell_type": "markdown",
   "metadata": {
    "id": "YbrJPysvgT_a"
   },
   "source": [
    "\n",
    "\n",
    "*   Now, We will take Laptop as product type and find average time user takes to call service center when they face booting issue.\n",
    "*   We will only consider hard repairs as they are the most time and cost sensitive and need more preparations from support team\n",
    "\n",
    "\n",
    "\n"
   ]
  },
  {
   "cell_type": "code",
   "execution_count": 38,
   "metadata": {
    "executionInfo": {
     "elapsed": 90,
     "status": "ok",
     "timestamp": 1626744125243,
     "user": {
      "displayName": "Pranav Mandolkar",
      "photoUrl": "https://lh3.googleusercontent.com/a-/AOh14GhkkcVpx7Q7nguHF5VhYApRc8cX52Sj5GpAVeixpwI=s64",
      "userId": "11053925234622878391"
     },
     "user_tz": 300
    },
    "id": "QFqry63XXvPy"
   },
   "outputs": [],
   "source": [
    "x = df[(df['product_type'] == 'Laptops') & (df['topic_category'] == 'Booting') & (df['repair_type'] == 'Hard')]"
   ]
  },
  {
   "cell_type": "code",
   "execution_count": 39,
   "metadata": {
    "colab": {
     "base_uri": "https://localhost:8080/"
    },
    "executionInfo": {
     "elapsed": 102,
     "status": "ok",
     "timestamp": 1626744128420,
     "user": {
      "displayName": "Pranav Mandolkar",
      "photoUrl": "https://lh3.googleusercontent.com/a-/AOh14GhkkcVpx7Q7nguHF5VhYApRc8cX52Sj5GpAVeixpwI=s64",
      "userId": "11053925234622878391"
     },
     "user_tz": 300
    },
    "id": "Wwt4RAXG7Vd1",
    "outputId": "8c7dcf01-367a-4b0e-a208-14358c277fd9"
   },
   "outputs": [
    {
     "name": "stdout",
     "output_type": "stream",
     "text": [
      "mean=581.137, meadian=490.000 stdv=403.282\n"
     ]
    }
   ],
   "source": [
    "print('mean=%.3f, meadian=%.3f stdv=%.3f' % (np.mean(x['contact_days']), np.median(x['contact_days']), np.std(x['contact_days'])))"
   ]
  },
  {
   "cell_type": "markdown",
   "metadata": {
    "id": "BBcH_MHfg9tn"
   },
   "source": [
    "From this plot we can see that data does not follow normal distribution and there are 3 peaks in the data distribution this might be because of the few factors which were not considered for ploting this graph. For Example, country or region can be a factor for different peaks of the data distribution. Product sold in region \"Hogwards\" can have components manufactured from place xyz which may have different warrenty and asset life than product manufactured from place abc.\n",
    "\n",
    "\n",
    "  - After putting more filters and finding finding calls distribution, we can get a referance time frame ( mean +- S.D.) for issues. \n",
    "  - Understanding this distribution is really important as this we can setup hyperpersonalized marketing criteria to upsale new products.\n",
    "  - We can also send a reminder notifications and quick issue resolution guide to customer based on mean contact days of the issue"
   ]
  },
  {
   "cell_type": "code",
   "execution_count": 45,
   "metadata": {
    "colab": {
     "base_uri": "https://localhost:8080/",
     "height": 279
    },
    "executionInfo": {
     "elapsed": 484,
     "status": "ok",
     "timestamp": 1626751092533,
     "user": {
      "displayName": "Pranav Mandolkar",
      "photoUrl": "https://lh3.googleusercontent.com/a-/AOh14GhkkcVpx7Q7nguHF5VhYApRc8cX52Sj5GpAVeixpwI=s64",
      "userId": "11053925234622878391"
     },
     "user_tz": 300
    },
    "id": "U7kZu0noYv2V",
    "outputId": "c0b3b521-422c-42f8-a36b-e64872225111"
   },
   "outputs": [
    {
     "data": {
      "image/png": "[encoded data removed]",
      "text/plain": [
       "<Figure size 432x288 with 1 Axes>"
      ]
     },
     "metadata": {
      "needs_background": "light",
      "tags": []
     },
     "output_type": "display_data"
    }
   ],
   "source": [
    "pyplot.hist(x['contact_days'], bins= 100, range=[0, 1500])\n",
    "\n",
    "pyplot.xlabel('Contact Days')\n",
    "pyplot.ylabel('Number of Occurrence')\n",
    "pyplot.show()"
   ]
  },
  {
   "cell_type": "markdown",
   "metadata": {
    "id": "245pyV-F9zbq"
   },
   "source": [
    "Most of the Laptop issues are observed in Region Hogwards"
   ]
  },
  {
   "cell_type": "code",
   "execution_count": 52,
   "metadata": {
    "colab": {
     "base_uri": "https://localhost:8080/"
    },
    "executionInfo": {
     "elapsed": 101,
     "status": "ok",
     "timestamp": 1626751823748,
     "user": {
      "displayName": "Pranav Mandolkar",
      "photoUrl": "https://lh3.googleusercontent.com/a-/AOh14GhkkcVpx7Q7nguHF5VhYApRc8cX52Sj5GpAVeixpwI=s64",
      "userId": "11053925234622878391"
     },
     "user_tz": 300
    },
    "id": "YMdVs24b4zEY",
    "outputId": "c3432986-cf36-4ccc-9bde-2746400d8e24"
   },
   "outputs": [
    {
     "data": {
      "text/plain": [
       "issue_type                             topic_category     region   \n",
       "System Board Components                Booting            Hogwarts     4768\n",
       "Audio, Video, Speakers, TV Tuner       LCD/Monitor        Hogwarts     3428\n",
       "Hard Drive                             Hard Drive         Hogwarts     2144\n",
       "Operating System                       Booting            Hogwarts     1660\n",
       "Power Subsystem / Cables / AC Adapter  Booting            Hogwarts     1494\n",
       "                                                                       ... \n",
       "Fee Based Support                      SD Card            Hogwarts        1\n",
       "                                       Mouse              Milky Way       1\n",
       "                                       Microsoft Account  Milky Way       1\n",
       "                                       Media              Milky Way       1\n",
       "Adobe                                  Antivirus          Hogwarts        1\n",
       "Length: 2098, dtype: int64"
      ]
     },
     "execution_count": 52,
     "metadata": {
      "tags": []
     },
     "output_type": "execute_result"
    }
   ],
   "source": [
    "laptop_only.groupby(['issue_type','topic_category','region']).size().sort_values(ascending=False)"
   ]
  },
  {
   "cell_type": "markdown",
   "metadata": {
    "id": "QvjySK2MA_S5"
   },
   "source": [
    "\n",
    "\n",
    "*   There are many more data analysis techniques can be applied on the data set. Such as KNN clustering to find out mean by K nearest neighbour.\n",
    "*   Few things I can improve to find solutions for - \n",
    "    - accurate inventory forecast depending on type of hard issues and part requirements.\n",
    "    - Forecast and management of human resources to better match customer behaviour and needs\n",
    "*   Due to time constrain and simultaneous office work I could not put more hours on the data analysis part\n",
    "*   Data cleaning part took most of the time. I could spend more time spending filling null values, rather than deleting lines.\n",
    "*   Code can also be made more efficient with writing functions\n",
    "*   Thank you giving me this opportunity to present my work.\n",
    "\n",
    "\n",
    "\n",
    "\n"
   ]
  }
 ],
 "metadata": {
  "colab": {
   "authorship_tag": "ABX9TyM/ZTGLcPrgorsZU/mXEZEr",
   "collapsed_sections": [],
   "mount_file_id": "1atqktoihdykVEcoRBCNsWm7tMUgYvT7m",
   "name": "Data_Analysis.ipynb",
   "provenance": []
  },
  "kernelspec": {
   "display_name": "Python 3",
   "language": "python",
   "name": "python3"
  },
  "language_info": {
   "codemirror_mode": {
    "name": "ipython",
    "version": 3
   },
   "file_extension": ".py",
   "mimetype": "text/x-python",
   "name": "python",
   "nbconvert_exporter": "python",
   "pygments_lexer": "ipython3",
   "version": "3.7.6"
  }
 },
 "nbformat": 4,
 "nbformat_minor": 1
}
